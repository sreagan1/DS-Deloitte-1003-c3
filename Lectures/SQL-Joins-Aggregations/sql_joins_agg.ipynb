{
 "cells": [
  {
   "cell_type": "markdown",
   "metadata": {
    "toc": true
   },
   "source": [
    "<h1>Table of Contents<span class=\"tocSkip\"></span></h1>\n",
    "<div class=\"toc\"><ul class=\"toc-item\"><li><span><a href=\"#Objectives\" data-toc-modified-id=\"Objectives-1\"><span class=\"toc-item-num\">1&nbsp;&nbsp;</span>Objectives</a></span></li><li><span><a href=\"#Aggregating-Functions\" data-toc-modified-id=\"Aggregating-Functions-2\"><span class=\"toc-item-num\">2&nbsp;&nbsp;</span>Aggregating Functions</a></span><ul class=\"toc-item\"><li><span><a href=\"#Example-Simple-Aggregations\" data-toc-modified-id=\"Example-Simple-Aggregations-2.1\"><span class=\"toc-item-num\">2.1&nbsp;&nbsp;</span>Example Simple Aggregations</a></span></li></ul></li><li><span><a href=\"#Grouping-in-SQL\" data-toc-modified-id=\"Grouping-in-SQL-3\"><span class=\"toc-item-num\">3&nbsp;&nbsp;</span>Grouping in SQL</a></span><ul class=\"toc-item\"><li><span><a href=\"#Example-GROUP-BY--Statements\" data-toc-modified-id=\"Example-GROUP-BY--Statements-3.1\"><span class=\"toc-item-num\">3.1&nbsp;&nbsp;</span>Example <code>GROUP BY</code>  Statements</a></span><ul class=\"toc-item\"><li><span><a href=\"#Without-GROUP-BY\" data-toc-modified-id=\"Without-GROUP-BY-3.1.1\"><span class=\"toc-item-num\">3.1.1&nbsp;&nbsp;</span>Without <code>GROUP BY</code></a></span></li><li><span><a href=\"#With-GROUP-BY\" data-toc-modified-id=\"With-GROUP-BY-3.1.2\"><span class=\"toc-item-num\">3.1.2&nbsp;&nbsp;</span>With <code>GROUP BY</code></a></span></li></ul></li><li><span><a href=\"#Group-Task\" data-toc-modified-id=\"Group-Task-3.2\"><span class=\"toc-item-num\">3.2&nbsp;&nbsp;</span>Group Task</a></span><ul class=\"toc-item\"><li><span><a href=\"#Possible-Solution\" data-toc-modified-id=\"Possible-Solution-3.2.1\"><span class=\"toc-item-num\">3.2.1&nbsp;&nbsp;</span>Possible Solution</a></span></li></ul></li><li><span><a href=\"#Exercise:-Grouping\" data-toc-modified-id=\"Exercise:-Grouping-3.3\"><span class=\"toc-item-num\">3.3&nbsp;&nbsp;</span>Exercise: Grouping</a></span><ul class=\"toc-item\"><li><span><a href=\"#Possible-Solution\" data-toc-modified-id=\"Possible-Solution-3.3.1\"><span class=\"toc-item-num\">3.3.1&nbsp;&nbsp;</span>Possible Solution</a></span></li></ul></li></ul></li><li><span><a href=\"#Filtering-Groups-with-HAVING\" data-toc-modified-id=\"Filtering-Groups-with-HAVING-4\"><span class=\"toc-item-num\">4&nbsp;&nbsp;</span>Filtering Groups with <code>HAVING</code></a></span><ul class=\"toc-item\"><li><span><a href=\"#Examples-of-Using-HAVING\" data-toc-modified-id=\"Examples-of-Using-HAVING-4.1\"><span class=\"toc-item-num\">4.1&nbsp;&nbsp;</span>Examples of Using <code>HAVING</code></a></span><ul class=\"toc-item\"><li><span><a href=\"#Simple-Filtering---Number-of-Airports-in-a-Country\" data-toc-modified-id=\"Simple-Filtering---Number-of-Airports-in-a-Country-4.1.1\"><span class=\"toc-item-num\">4.1.1&nbsp;&nbsp;</span>Simple Filtering - Number of Airports in a Country</a></span></li></ul></li><li><span><a href=\"#Filtering-Different-Aggregation---Airport-Altitudes\" data-toc-modified-id=\"Filtering-Different-Aggregation---Airport-Altitudes-4.2\"><span class=\"toc-item-num\">4.2&nbsp;&nbsp;</span>Filtering Different Aggregation - Airport Altitudes</a></span><ul class=\"toc-item\"><li><span><a href=\"#Looking-at-the-airports-Table\" data-toc-modified-id=\"Looking-at-the-airports-Table-4.2.1\"><span class=\"toc-item-num\">4.2.1&nbsp;&nbsp;</span>Looking at the <code>airports</code> Table</a></span></li><li><span><a href=\"#Looking-at-the-Highest-Airport\" data-toc-modified-id=\"Looking-at-the-Highest-Airport-4.2.2\"><span class=\"toc-item-num\">4.2.2&nbsp;&nbsp;</span>Looking at the Highest Airport</a></span></li><li><span><a href=\"#Looking-at-the-Number-of-Airports-Too\" data-toc-modified-id=\"Looking-at-the-Number-of-Airports-Too-4.2.3\"><span class=\"toc-item-num\">4.2.3&nbsp;&nbsp;</span>Looking at the Number of Airports Too</a></span></li><li><span><a href=\"#Finally-Filter-Aggregation\" data-toc-modified-id=\"Finally-Filter-Aggregation-4.2.4\"><span class=\"toc-item-num\">4.2.4&nbsp;&nbsp;</span>Finally Filter Aggregation</a></span></li></ul></li></ul></li><li><span><a href=\"#Joins\" data-toc-modified-id=\"Joins-5\"><span class=\"toc-item-num\">5&nbsp;&nbsp;</span>Joins</a></span><ul class=\"toc-item\"><li><span><a href=\"#INNER-JOIN\" data-toc-modified-id=\"INNER-JOIN-5.1\"><span class=\"toc-item-num\">5.1&nbsp;&nbsp;</span><code>INNER JOIN</code></a></span><ul class=\"toc-item\"><li><span><a href=\"#Code-Example-for-Inner-Joins\" data-toc-modified-id=\"Code-Example-for-Inner-Joins-5.1.1\"><span class=\"toc-item-num\">5.1.1&nbsp;&nbsp;</span>Code Example for Inner Joins</a></span><ul class=\"toc-item\"><li><span><a href=\"#Inner-Join-Routes-&amp;-Airline-Data\" data-toc-modified-id=\"Inner-Join-Routes-&amp;-Airline-Data-5.1.1.1\"><span class=\"toc-item-num\">5.1.1.1&nbsp;&nbsp;</span>Inner Join Routes &amp; Airline Data</a></span></li><li><span><a href=\"#Note:-Losing-Data-with-Inner-Joins\" data-toc-modified-id=\"Note:-Losing-Data-with-Inner-Joins-5.1.1.2\"><span class=\"toc-item-num\">5.1.1.2&nbsp;&nbsp;</span>Note: Losing Data with Inner Joins</a></span></li></ul></li></ul></li><li><span><a href=\"#LEFT-JOIN\" data-toc-modified-id=\"LEFT-JOIN-5.2\"><span class=\"toc-item-num\">5.2&nbsp;&nbsp;</span><code>LEFT JOIN</code></a></span><ul class=\"toc-item\"><li><span><a href=\"#Code-Example-for-Left-Join\" data-toc-modified-id=\"Code-Example-for-Left-Join-5.2.1\"><span class=\"toc-item-num\">5.2.1&nbsp;&nbsp;</span>Code Example for Left Join</a></span></li></ul></li><li><span><a href=\"#Exercise:-Joins\" data-toc-modified-id=\"Exercise:-Joins-5.3\"><span class=\"toc-item-num\">5.3&nbsp;&nbsp;</span>Exercise: Joins</a></span><ul class=\"toc-item\"><li><span><a href=\"#Possible-Solution\" data-toc-modified-id=\"Possible-Solution-5.3.1\"><span class=\"toc-item-num\">5.3.1&nbsp;&nbsp;</span>Possible Solution</a></span></li></ul></li></ul></li><li><span><a href=\"#Level-Up:-Execution-Order\" data-toc-modified-id=\"Level-Up:-Execution-Order-6\"><span class=\"toc-item-num\">6&nbsp;&nbsp;</span>Level Up: Execution Order</a></span></li></ul></div>"
   ]
  },
  {
   "cell_type": "markdown",
   "metadata": {},
   "source": [
    "![sql](images/sql-logo.jpg)"
   ]
  },
  {
   "cell_type": "code",
   "execution_count": 88,
   "metadata": {},
   "outputs": [],
   "source": [
    "import pandas as pd\n",
    "import sqlite3\n",
    "#import pandasql\n",
    "\n",
    "conn = sqlite3.connect(\"data/flights.db\")\n",
    "#Set up database connection using sqlite3\n",
    "cur = conn.cursor()"
   ]
  },
  {
   "cell_type": "markdown",
   "metadata": {
    "heading_collapsed": true
   },
   "source": [
    "# Objectives"
   ]
  },
  {
   "cell_type": "markdown",
   "metadata": {
    "hidden": true
   },
   "source": [
    "- Use SQL aggregation functions with GROUP BY\n",
    "- Use HAVING for group filtering\n",
    "- Use SQL JOIN to combine tables using keys"
   ]
  },
  {
   "cell_type": "markdown",
   "metadata": {
    "heading_collapsed": true
   },
   "source": [
    "# Aggregating Functions"
   ]
  },
  {
   "cell_type": "markdown",
   "metadata": {
    "hidden": true
   },
   "source": [
    ">  A SQL **aggregating function** takes in many values and returns one value."
   ]
  },
  {
   "cell_type": "markdown",
   "metadata": {
    "hidden": true
   },
   "source": [
    "We have already seen some SQL aggregating functions like `COUNT()`. There are also others, like SUM(), AVG(), MIN(), and MAX()."
   ]
  },
  {
   "cell_type": "markdown",
   "metadata": {
    "heading_collapsed": true,
    "hidden": true
   },
   "source": [
    "## Example Simple Aggregations"
   ]
  },
  {
   "cell_type": "code",
   "execution_count": 90,
   "metadata": {
    "hidden": true
   },
   "outputs": [
    {
     "data": {
      "text/html": [
       "<div>\n",
       "<style scoped>\n",
       "    .dataframe tbody tr th:only-of-type {\n",
       "        vertical-align: middle;\n",
       "    }\n",
       "\n",
       "    .dataframe tbody tr th {\n",
       "        vertical-align: top;\n",
       "    }\n",
       "\n",
       "    .dataframe thead th {\n",
       "        text-align: right;\n",
       "    }\n",
       "</style>\n",
       "<table border=\"1\" class=\"dataframe\">\n",
       "  <thead>\n",
       "    <tr style=\"text-align: right;\">\n",
       "      <th></th>\n",
       "      <th>MAX(\\n            CAST(longitude AS REAL)\\n        )</th>\n",
       "    </tr>\n",
       "  </thead>\n",
       "  <tbody>\n",
       "    <tr>\n",
       "      <th>0</th>\n",
       "      <td>179.951</td>\n",
       "    </tr>\n",
       "  </tbody>\n",
       "</table>\n",
       "</div>"
      ],
      "text/plain": [
       "   MAX(\\n            CAST(longitude AS REAL)\\n        )\n",
       "0                                            179.951   "
      ]
     },
     "execution_count": 90,
     "metadata": {},
     "output_type": "execute_result"
    }
   ],
   "source": [
    "# Max value for longitude\n",
    "pd.read_sql('''\n",
    "    SELECT \n",
    "        -- Note we have to cast to a numerical value first\n",
    "        MAX(\n",
    "            CAST(longitude AS REAL)\n",
    "        )\n",
    "    FROM \n",
    "        airports\n",
    "''', conn)"
   ]
  },
  {
   "cell_type": "code",
   "execution_count": 91,
   "metadata": {
    "hidden": true
   },
   "outputs": [
    {
     "ename": "TypeError",
     "evalue": "'NoneType' object is not iterable",
     "output_type": "error",
     "traceback": [
      "\u001b[1;31m---------------------------------------------------------------------------\u001b[0m",
      "\u001b[1;31mTypeError\u001b[0m                                 Traceback (most recent call last)",
      "\u001b[1;32m<ipython-input-91-34cc3ab5c0d2>\u001b[0m in \u001b[0;36m<module>\u001b[1;34m\u001b[0m\n\u001b[0;32m      1\u001b[0m \u001b[1;31m# Max value for id in table\u001b[0m\u001b[1;33m\u001b[0m\u001b[1;33m\u001b[0m\u001b[1;33m\u001b[0m\u001b[0m\n\u001b[1;32m----> 2\u001b[1;33m pd.read_sql('''\n\u001b[0m\u001b[0;32m      3\u001b[0m \u001b[1;33m\u001b[0m\u001b[0m\n\u001b[0;32m      4\u001b[0m ''', conn)\n",
      "\u001b[1;32m~\\Anaconda3\\envs\\learn-env\\lib\\site-packages\\pandas\\io\\sql.py\u001b[0m in \u001b[0;36mread_sql\u001b[1;34m(sql, con, index_col, coerce_float, params, parse_dates, columns, chunksize)\u001b[0m\n\u001b[0;32m    481\u001b[0m \u001b[1;33m\u001b[0m\u001b[0m\n\u001b[0;32m    482\u001b[0m     \u001b[1;32mif\u001b[0m \u001b[0misinstance\u001b[0m\u001b[1;33m(\u001b[0m\u001b[0mpandas_sql\u001b[0m\u001b[1;33m,\u001b[0m \u001b[0mSQLiteDatabase\u001b[0m\u001b[1;33m)\u001b[0m\u001b[1;33m:\u001b[0m\u001b[1;33m\u001b[0m\u001b[1;33m\u001b[0m\u001b[0m\n\u001b[1;32m--> 483\u001b[1;33m         return pandas_sql.read_query(\n\u001b[0m\u001b[0;32m    484\u001b[0m             \u001b[0msql\u001b[0m\u001b[1;33m,\u001b[0m\u001b[1;33m\u001b[0m\u001b[1;33m\u001b[0m\u001b[0m\n\u001b[0;32m    485\u001b[0m             \u001b[0mindex_col\u001b[0m\u001b[1;33m=\u001b[0m\u001b[0mindex_col\u001b[0m\u001b[1;33m,\u001b[0m\u001b[1;33m\u001b[0m\u001b[1;33m\u001b[0m\u001b[0m\n",
      "\u001b[1;32m~\\Anaconda3\\envs\\learn-env\\lib\\site-packages\\pandas\\io\\sql.py\u001b[0m in \u001b[0;36mread_query\u001b[1;34m(self, sql, index_col, coerce_float, params, parse_dates, chunksize)\u001b[0m\n\u001b[0;32m   1726\u001b[0m         \u001b[0margs\u001b[0m \u001b[1;33m=\u001b[0m \u001b[0m_convert_params\u001b[0m\u001b[1;33m(\u001b[0m\u001b[0msql\u001b[0m\u001b[1;33m,\u001b[0m \u001b[0mparams\u001b[0m\u001b[1;33m)\u001b[0m\u001b[1;33m\u001b[0m\u001b[1;33m\u001b[0m\u001b[0m\n\u001b[0;32m   1727\u001b[0m         \u001b[0mcursor\u001b[0m \u001b[1;33m=\u001b[0m \u001b[0mself\u001b[0m\u001b[1;33m.\u001b[0m\u001b[0mexecute\u001b[0m\u001b[1;33m(\u001b[0m\u001b[1;33m*\u001b[0m\u001b[0margs\u001b[0m\u001b[1;33m)\u001b[0m\u001b[1;33m\u001b[0m\u001b[1;33m\u001b[0m\u001b[0m\n\u001b[1;32m-> 1728\u001b[1;33m         \u001b[0mcolumns\u001b[0m \u001b[1;33m=\u001b[0m \u001b[1;33m[\u001b[0m\u001b[0mcol_desc\u001b[0m\u001b[1;33m[\u001b[0m\u001b[1;36m0\u001b[0m\u001b[1;33m]\u001b[0m \u001b[1;32mfor\u001b[0m \u001b[0mcol_desc\u001b[0m \u001b[1;32min\u001b[0m \u001b[0mcursor\u001b[0m\u001b[1;33m.\u001b[0m\u001b[0mdescription\u001b[0m\u001b[1;33m]\u001b[0m\u001b[1;33m\u001b[0m\u001b[1;33m\u001b[0m\u001b[0m\n\u001b[0m\u001b[0;32m   1729\u001b[0m \u001b[1;33m\u001b[0m\u001b[0m\n\u001b[0;32m   1730\u001b[0m         \u001b[1;32mif\u001b[0m \u001b[0mchunksize\u001b[0m \u001b[1;32mis\u001b[0m \u001b[1;32mnot\u001b[0m \u001b[1;32mNone\u001b[0m\u001b[1;33m:\u001b[0m\u001b[1;33m\u001b[0m\u001b[1;33m\u001b[0m\u001b[0m\n",
      "\u001b[1;31mTypeError\u001b[0m: 'NoneType' object is not iterable"
     ]
    }
   ],
   "source": [
    "# Max value for id in table\n",
    "pd.read_sql('''\n",
    "\n",
    "''', conn)"
   ]
  },
  {
   "cell_type": "code",
   "execution_count": 92,
   "metadata": {
    "hidden": true
   },
   "outputs": [
    {
     "data": {
      "text/html": [
       "<div>\n",
       "<style scoped>\n",
       "    .dataframe tbody tr th:only-of-type {\n",
       "        vertical-align: middle;\n",
       "    }\n",
       "\n",
       "    .dataframe tbody tr th {\n",
       "        vertical-align: top;\n",
       "    }\n",
       "\n",
       "    .dataframe thead th {\n",
       "        text-align: right;\n",
       "    }\n",
       "</style>\n",
       "<table border=\"1\" class=\"dataframe\">\n",
       "  <thead>\n",
       "    <tr style=\"text-align: right;\">\n",
       "      <th></th>\n",
       "      <th>COUNT()</th>\n",
       "    </tr>\n",
       "  </thead>\n",
       "  <tbody>\n",
       "    <tr>\n",
       "      <th>0</th>\n",
       "      <td>4886</td>\n",
       "    </tr>\n",
       "  </tbody>\n",
       "</table>\n",
       "</div>"
      ],
      "text/plain": [
       "   COUNT()\n",
       "0     4886"
      ]
     },
     "execution_count": 92,
     "metadata": {},
     "output_type": "execute_result"
    }
   ],
   "source": [
    "# Effectively counts all the inactive airlines \n",
    "pd.read_sql('''\n",
    "    SELECT \n",
    "        COUNT()\n",
    "    FROM \n",
    "        airlines\n",
    "    WHERE \n",
    "        active='N'\n",
    "''', conn)"
   ]
  },
  {
   "cell_type": "markdown",
   "metadata": {
    "hidden": true
   },
   "source": [
    "We can also give aliases to our aggregations:"
   ]
  },
  {
   "cell_type": "code",
   "execution_count": 93,
   "metadata": {
    "hidden": true
   },
   "outputs": [
    {
     "ename": "TypeError",
     "evalue": "'NoneType' object is not iterable",
     "output_type": "error",
     "traceback": [
      "\u001b[1;31m---------------------------------------------------------------------------\u001b[0m",
      "\u001b[1;31mTypeError\u001b[0m                                 Traceback (most recent call last)",
      "\u001b[1;32m<ipython-input-93-e7952a8f5746>\u001b[0m in \u001b[0;36m<module>\u001b[1;34m\u001b[0m\n\u001b[0;32m      1\u001b[0m \u001b[1;31m# Effectively counts all the active airlines\u001b[0m\u001b[1;33m\u001b[0m\u001b[1;33m\u001b[0m\u001b[1;33m\u001b[0m\u001b[0m\n\u001b[1;32m----> 2\u001b[1;33m pd.read_sql('''\n\u001b[0m\u001b[0;32m      3\u001b[0m \u001b[1;33m\u001b[0m\u001b[0m\n\u001b[0;32m      4\u001b[0m \u001b[1;33m\u001b[0m\u001b[0m\n\u001b[0;32m      5\u001b[0m ''', conn)\n",
      "\u001b[1;32m~\\Anaconda3\\envs\\learn-env\\lib\\site-packages\\pandas\\io\\sql.py\u001b[0m in \u001b[0;36mread_sql\u001b[1;34m(sql, con, index_col, coerce_float, params, parse_dates, columns, chunksize)\u001b[0m\n\u001b[0;32m    481\u001b[0m \u001b[1;33m\u001b[0m\u001b[0m\n\u001b[0;32m    482\u001b[0m     \u001b[1;32mif\u001b[0m \u001b[0misinstance\u001b[0m\u001b[1;33m(\u001b[0m\u001b[0mpandas_sql\u001b[0m\u001b[1;33m,\u001b[0m \u001b[0mSQLiteDatabase\u001b[0m\u001b[1;33m)\u001b[0m\u001b[1;33m:\u001b[0m\u001b[1;33m\u001b[0m\u001b[1;33m\u001b[0m\u001b[0m\n\u001b[1;32m--> 483\u001b[1;33m         return pandas_sql.read_query(\n\u001b[0m\u001b[0;32m    484\u001b[0m             \u001b[0msql\u001b[0m\u001b[1;33m,\u001b[0m\u001b[1;33m\u001b[0m\u001b[1;33m\u001b[0m\u001b[0m\n\u001b[0;32m    485\u001b[0m             \u001b[0mindex_col\u001b[0m\u001b[1;33m=\u001b[0m\u001b[0mindex_col\u001b[0m\u001b[1;33m,\u001b[0m\u001b[1;33m\u001b[0m\u001b[1;33m\u001b[0m\u001b[0m\n",
      "\u001b[1;32m~\\Anaconda3\\envs\\learn-env\\lib\\site-packages\\pandas\\io\\sql.py\u001b[0m in \u001b[0;36mread_query\u001b[1;34m(self, sql, index_col, coerce_float, params, parse_dates, chunksize)\u001b[0m\n\u001b[0;32m   1726\u001b[0m         \u001b[0margs\u001b[0m \u001b[1;33m=\u001b[0m \u001b[0m_convert_params\u001b[0m\u001b[1;33m(\u001b[0m\u001b[0msql\u001b[0m\u001b[1;33m,\u001b[0m \u001b[0mparams\u001b[0m\u001b[1;33m)\u001b[0m\u001b[1;33m\u001b[0m\u001b[1;33m\u001b[0m\u001b[0m\n\u001b[0;32m   1727\u001b[0m         \u001b[0mcursor\u001b[0m \u001b[1;33m=\u001b[0m \u001b[0mself\u001b[0m\u001b[1;33m.\u001b[0m\u001b[0mexecute\u001b[0m\u001b[1;33m(\u001b[0m\u001b[1;33m*\u001b[0m\u001b[0margs\u001b[0m\u001b[1;33m)\u001b[0m\u001b[1;33m\u001b[0m\u001b[1;33m\u001b[0m\u001b[0m\n\u001b[1;32m-> 1728\u001b[1;33m         \u001b[0mcolumns\u001b[0m \u001b[1;33m=\u001b[0m \u001b[1;33m[\u001b[0m\u001b[0mcol_desc\u001b[0m\u001b[1;33m[\u001b[0m\u001b[1;36m0\u001b[0m\u001b[1;33m]\u001b[0m \u001b[1;32mfor\u001b[0m \u001b[0mcol_desc\u001b[0m \u001b[1;32min\u001b[0m \u001b[0mcursor\u001b[0m\u001b[1;33m.\u001b[0m\u001b[0mdescription\u001b[0m\u001b[1;33m]\u001b[0m\u001b[1;33m\u001b[0m\u001b[1;33m\u001b[0m\u001b[0m\n\u001b[0m\u001b[0;32m   1729\u001b[0m \u001b[1;33m\u001b[0m\u001b[0m\n\u001b[0;32m   1730\u001b[0m         \u001b[1;32mif\u001b[0m \u001b[0mchunksize\u001b[0m \u001b[1;32mis\u001b[0m \u001b[1;32mnot\u001b[0m \u001b[1;32mNone\u001b[0m\u001b[1;33m:\u001b[0m\u001b[1;33m\u001b[0m\u001b[1;33m\u001b[0m\u001b[0m\n",
      "\u001b[1;31mTypeError\u001b[0m: 'NoneType' object is not iterable"
     ]
    }
   ],
   "source": [
    "# Effectively counts all the active airlines \n",
    "pd.read_sql('''\n",
    "\n",
    "    \n",
    "''', conn)"
   ]
  },
  {
   "cell_type": "markdown",
   "metadata": {
    "heading_collapsed": true
   },
   "source": [
    "# Grouping in SQL"
   ]
  },
  {
   "cell_type": "markdown",
   "metadata": {
    "hidden": true
   },
   "source": [
    "We can go deeper and use aggregation functions on _groups_ using the `GROUP BY` clause."
   ]
  },
  {
   "cell_type": "markdown",
   "metadata": {
    "hidden": true
   },
   "source": [
    "The `GROUP BY` clause will group one or more columns together where rows that have the same values become one group to perform aggregation functions on."
   ]
  },
  {
   "cell_type": "markdown",
   "metadata": {
    "heading_collapsed": true,
    "hidden": true
   },
   "source": [
    "## Example `GROUP BY`  Statements"
   ]
  },
  {
   "cell_type": "markdown",
   "metadata": {
    "hidden": true
   },
   "source": [
    "Let's say we want to know how many active and non-active airlines there are."
   ]
  },
  {
   "cell_type": "markdown",
   "metadata": {
    "heading_collapsed": true,
    "hidden": true
   },
   "source": [
    "### Without `GROUP BY`"
   ]
  },
  {
   "cell_type": "markdown",
   "metadata": {
    "hidden": true
   },
   "source": [
    "Let's first start with just seeing how many airlines there are:"
   ]
  },
  {
   "cell_type": "code",
   "execution_count": 94,
   "metadata": {
    "hidden": true
   },
   "outputs": [
    {
     "data": {
      "text/html": [
       "<div>\n",
       "<style scoped>\n",
       "    .dataframe tbody tr th:only-of-type {\n",
       "        vertical-align: middle;\n",
       "    }\n",
       "\n",
       "    .dataframe tbody tr th {\n",
       "        vertical-align: top;\n",
       "    }\n",
       "\n",
       "    .dataframe thead th {\n",
       "        text-align: right;\n",
       "    }\n",
       "</style>\n",
       "<table border=\"1\" class=\"dataframe\">\n",
       "  <thead>\n",
       "    <tr style=\"text-align: right;\">\n",
       "      <th></th>\n",
       "      <th>number_of_airlines</th>\n",
       "    </tr>\n",
       "  </thead>\n",
       "  <tbody>\n",
       "    <tr>\n",
       "      <th>0</th>\n",
       "      <td>6048</td>\n",
       "    </tr>\n",
       "  </tbody>\n",
       "</table>\n",
       "</div>"
      ],
      "text/plain": [
       "   number_of_airlines\n",
       "0                6048"
      ]
     },
     "execution_count": 94,
     "metadata": {},
     "output_type": "execute_result"
    }
   ],
   "source": [
    "df_results = pd.read_sql('''\n",
    "    SELECT \n",
    "        -- Reminder that this counts the number of rows before the SELECT\n",
    "        COUNT() AS number_of_airlines\n",
    "    FROM \n",
    "        airlines\n",
    "''', conn)\n",
    "\n",
    "df_results"
   ]
  },
  {
   "cell_type": "markdown",
   "metadata": {
    "hidden": true
   },
   "source": [
    "One way for us to get the counts for each is to create two queries that will filter each kind of airline (active vs non-active) and count those values:"
   ]
  },
  {
   "cell_type": "code",
   "execution_count": 95,
   "metadata": {
    "hidden": true
   },
   "outputs": [
    {
     "data": {
      "text/html": [
       "<div>\n",
       "<style scoped>\n",
       "    .dataframe tbody tr th:only-of-type {\n",
       "        vertical-align: middle;\n",
       "    }\n",
       "\n",
       "    .dataframe tbody tr th {\n",
       "        vertical-align: top;\n",
       "    }\n",
       "\n",
       "    .dataframe thead th {\n",
       "        text-align: right;\n",
       "    }\n",
       "</style>\n",
       "<table border=\"1\" class=\"dataframe\">\n",
       "  <thead>\n",
       "    <tr style=\"text-align: right;\">\n",
       "      <th></th>\n",
       "      <th>number_of_active_airlines</th>\n",
       "    </tr>\n",
       "  </thead>\n",
       "  <tbody>\n",
       "    <tr>\n",
       "      <th>0</th>\n",
       "      <td>1161</td>\n",
       "    </tr>\n",
       "  </tbody>\n",
       "</table>\n",
       "</div>"
      ],
      "text/plain": [
       "   number_of_active_airlines\n",
       "0                       1161"
      ]
     },
     "metadata": {},
     "output_type": "display_data"
    },
    {
     "data": {
      "text/html": [
       "<div>\n",
       "<style scoped>\n",
       "    .dataframe tbody tr th:only-of-type {\n",
       "        vertical-align: middle;\n",
       "    }\n",
       "\n",
       "    .dataframe tbody tr th {\n",
       "        vertical-align: top;\n",
       "    }\n",
       "\n",
       "    .dataframe thead th {\n",
       "        text-align: right;\n",
       "    }\n",
       "</style>\n",
       "<table border=\"1\" class=\"dataframe\">\n",
       "  <thead>\n",
       "    <tr style=\"text-align: right;\">\n",
       "      <th></th>\n",
       "      <th>number_of_not_active_airlines</th>\n",
       "    </tr>\n",
       "  </thead>\n",
       "  <tbody>\n",
       "    <tr>\n",
       "      <th>0</th>\n",
       "      <td>4886</td>\n",
       "    </tr>\n",
       "  </tbody>\n",
       "</table>\n",
       "</div>"
      ],
      "text/plain": [
       "   number_of_not_active_airlines\n",
       "0                           4886"
      ]
     },
     "metadata": {},
     "output_type": "display_data"
    }
   ],
   "source": [
    "df_active = pd.read_sql('''\n",
    "    SELECT \n",
    "        COUNT() AS number_of_active_airlines\n",
    "    FROM \n",
    "        airlines\n",
    "    WHERE \n",
    "        active='Y'\n",
    "''', conn)\n",
    "\n",
    "df_not_active = pd.read_sql('''\n",
    "    SELECT \n",
    "        COUNT() AS number_of_not_active_airlines\n",
    "    FROM \n",
    "        airlines\n",
    "    WHERE \n",
    "        active='N'\n",
    "''', conn)\n",
    "\n",
    "display(df_active)\n",
    "display(df_not_active)"
   ]
  },
  {
   "cell_type": "markdown",
   "metadata": {
    "hidden": true
   },
   "source": [
    "This works but it's inefficient."
   ]
  },
  {
   "cell_type": "markdown",
   "metadata": {
    "heading_collapsed": true,
    "hidden": true
   },
   "source": [
    "### With `GROUP BY`"
   ]
  },
  {
   "cell_type": "markdown",
   "metadata": {
    "hidden": true
   },
   "source": [
    "Instead, we can tell the SQL server to do the work for us by grouping values we care about for us!"
   ]
  },
  {
   "cell_type": "code",
   "execution_count": 96,
   "metadata": {
    "hidden": true
   },
   "outputs": [
    {
     "data": {
      "text/html": [
       "<div>\n",
       "<style scoped>\n",
       "    .dataframe tbody tr th:only-of-type {\n",
       "        vertical-align: middle;\n",
       "    }\n",
       "\n",
       "    .dataframe tbody tr th {\n",
       "        vertical-align: top;\n",
       "    }\n",
       "\n",
       "    .dataframe thead th {\n",
       "        text-align: right;\n",
       "    }\n",
       "</style>\n",
       "<table border=\"1\" class=\"dataframe\">\n",
       "  <thead>\n",
       "    <tr style=\"text-align: right;\">\n",
       "      <th></th>\n",
       "      <th>number_of_airlines</th>\n",
       "    </tr>\n",
       "  </thead>\n",
       "  <tbody>\n",
       "    <tr>\n",
       "      <th>0</th>\n",
       "      <td>4886</td>\n",
       "    </tr>\n",
       "    <tr>\n",
       "      <th>1</th>\n",
       "      <td>1161</td>\n",
       "    </tr>\n",
       "    <tr>\n",
       "      <th>2</th>\n",
       "      <td>1</td>\n",
       "    </tr>\n",
       "  </tbody>\n",
       "</table>\n",
       "</div>"
      ],
      "text/plain": [
       "   number_of_airlines\n",
       "0                4886\n",
       "1                1161\n",
       "2                   1"
      ]
     },
     "execution_count": 96,
     "metadata": {},
     "output_type": "execute_result"
    }
   ],
   "source": [
    "df_results = pd.read_sql('''\n",
    "    SELECT \n",
    "        COUNT() AS number_of_airlines\n",
    "    FROM \n",
    "        airlines\n",
    "    GROUP BY\n",
    "        active\n",
    "''', conn)\n",
    "\n",
    "df_results"
   ]
  },
  {
   "cell_type": "markdown",
   "metadata": {
    "hidden": true
   },
   "source": [
    "This is great! And if you look closely, you can observe we have _three_ different groups instead of our expected two!"
   ]
  },
  {
   "cell_type": "markdown",
   "metadata": {
    "hidden": true
   },
   "source": [
    "Let's also print out the `airlines.active` value for each group/aggregation so we know what we're looking at:"
   ]
  },
  {
   "cell_type": "code",
   "execution_count": 97,
   "metadata": {
    "hidden": true
   },
   "outputs": [
    {
     "data": {
      "text/html": [
       "<div>\n",
       "<style scoped>\n",
       "    .dataframe tbody tr th:only-of-type {\n",
       "        vertical-align: middle;\n",
       "    }\n",
       "\n",
       "    .dataframe tbody tr th {\n",
       "        vertical-align: top;\n",
       "    }\n",
       "\n",
       "    .dataframe thead th {\n",
       "        text-align: right;\n",
       "    }\n",
       "</style>\n",
       "<table border=\"1\" class=\"dataframe\">\n",
       "  <thead>\n",
       "    <tr style=\"text-align: right;\">\n",
       "      <th></th>\n",
       "      <th>active</th>\n",
       "      <th>number_of</th>\n",
       "    </tr>\n",
       "  </thead>\n",
       "  <tbody>\n",
       "    <tr>\n",
       "      <th>0</th>\n",
       "      <td>N</td>\n",
       "      <td>4886</td>\n",
       "    </tr>\n",
       "    <tr>\n",
       "      <th>1</th>\n",
       "      <td>Y</td>\n",
       "      <td>1161</td>\n",
       "    </tr>\n",
       "    <tr>\n",
       "      <th>2</th>\n",
       "      <td>n</td>\n",
       "      <td>1</td>\n",
       "    </tr>\n",
       "  </tbody>\n",
       "</table>\n",
       "</div>"
      ],
      "text/plain": [
       "  active  number_of\n",
       "0      N       4886\n",
       "1      Y       1161\n",
       "2      n          1"
      ]
     },
     "execution_count": 97,
     "metadata": {},
     "output_type": "execute_result"
    }
   ],
   "source": [
    "df_results = pd.read_sql('''\n",
    "SELECT active, COUNT() AS number_of\n",
    "FROM airlines\n",
    "GROUP BY active\n",
    "''', conn)\n",
    "\n",
    "df_results"
   ]
  },
  {
   "cell_type": "markdown",
   "metadata": {
    "heading_collapsed": true,
    "hidden": true
   },
   "source": [
    "## Group Task"
   ]
  },
  {
   "cell_type": "markdown",
   "metadata": {
    "hidden": true
   },
   "source": [
    "- Which countries have the highest numbers of active airlines? Return the top 10."
   ]
  },
  {
   "cell_type": "code",
   "execution_count": 98,
   "metadata": {
    "hidden": true
   },
   "outputs": [
    {
     "data": {
      "text/html": [
       "<div>\n",
       "<style scoped>\n",
       "    .dataframe tbody tr th:only-of-type {\n",
       "        vertical-align: middle;\n",
       "    }\n",
       "\n",
       "    .dataframe tbody tr th {\n",
       "        vertical-align: top;\n",
       "    }\n",
       "\n",
       "    .dataframe thead th {\n",
       "        text-align: right;\n",
       "    }\n",
       "</style>\n",
       "<table border=\"1\" class=\"dataframe\">\n",
       "  <thead>\n",
       "    <tr style=\"text-align: right;\">\n",
       "      <th></th>\n",
       "      <th>country</th>\n",
       "      <th>num_of_active_airlines</th>\n",
       "    </tr>\n",
       "  </thead>\n",
       "  <tbody>\n",
       "    <tr>\n",
       "      <th>0</th>\n",
       "      <td>United States</td>\n",
       "      <td>141</td>\n",
       "    </tr>\n",
       "    <tr>\n",
       "      <th>1</th>\n",
       "      <td>Russia</td>\n",
       "      <td>72</td>\n",
       "    </tr>\n",
       "    <tr>\n",
       "      <th>2</th>\n",
       "      <td>United Kingdom</td>\n",
       "      <td>40</td>\n",
       "    </tr>\n",
       "    <tr>\n",
       "      <th>3</th>\n",
       "      <td>Germany</td>\n",
       "      <td>37</td>\n",
       "    </tr>\n",
       "    <tr>\n",
       "      <th>4</th>\n",
       "      <td>Canada</td>\n",
       "      <td>34</td>\n",
       "    </tr>\n",
       "    <tr>\n",
       "      <th>5</th>\n",
       "      <td>Australia</td>\n",
       "      <td>26</td>\n",
       "    </tr>\n",
       "    <tr>\n",
       "      <th>6</th>\n",
       "      <td>China</td>\n",
       "      <td>25</td>\n",
       "    </tr>\n",
       "    <tr>\n",
       "      <th>7</th>\n",
       "      <td>Spain</td>\n",
       "      <td>24</td>\n",
       "    </tr>\n",
       "    <tr>\n",
       "      <th>8</th>\n",
       "      <td>Brazil</td>\n",
       "      <td>23</td>\n",
       "    </tr>\n",
       "    <tr>\n",
       "      <th>9</th>\n",
       "      <td>France</td>\n",
       "      <td>22</td>\n",
       "    </tr>\n",
       "  </tbody>\n",
       "</table>\n",
       "</div>"
      ],
      "text/plain": [
       "          country  num_of_active_airlines\n",
       "0   United States                     141\n",
       "1          Russia                      72\n",
       "2  United Kingdom                      40\n",
       "3         Germany                      37\n",
       "4          Canada                      34\n",
       "5       Australia                      26\n",
       "6           China                      25\n",
       "7           Spain                      24\n",
       "8          Brazil                      23\n",
       "9          France                      22"
      ]
     },
     "execution_count": 98,
     "metadata": {},
     "output_type": "execute_result"
    }
   ],
   "source": [
    "pd.read_sql('''\n",
    "    SELECT\n",
    "        country,\n",
    "        COUNT(*) as num_of_active_airlines\n",
    "    FROM\n",
    "        airlines\n",
    "    WHERE\n",
    "        active = \"Y\"\n",
    "    GROUP BY\n",
    "        country\n",
    "    ORDER BY\n",
    "        num_of_active_airlines DESC\n",
    "    LIMIT \n",
    "        10;\n",
    "''', conn)"
   ]
  },
  {
   "cell_type": "markdown",
   "metadata": {
    "heading_collapsed": true,
    "hidden": true
   },
   "source": [
    "<details>\n",
    "    <summary><b>Possible Solution</b></summary>\n",
    "\n",
    "``` sql\n",
    "    pd.read_sql('''\n",
    "    SELECT \n",
    "        COUNT() AS num,\n",
    "        country\n",
    "    FROM \n",
    "        airlines\n",
    "    WHERE \n",
    "        active='Y'\n",
    "    GROUP BY \n",
    "        country\n",
    "    ORDER BY \n",
    "        num DESC\n",
    "    LIMIT 10\n",
    "    ''', conn)```\n",
    "</details>"
   ]
  },
  {
   "cell_type": "code",
   "execution_count": 99,
   "metadata": {},
   "outputs": [
    {
     "data": {
      "text/html": [
       "<div>\n",
       "<style scoped>\n",
       "    .dataframe tbody tr th:only-of-type {\n",
       "        vertical-align: middle;\n",
       "    }\n",
       "\n",
       "    .dataframe tbody tr th {\n",
       "        vertical-align: top;\n",
       "    }\n",
       "\n",
       "    .dataframe thead th {\n",
       "        text-align: right;\n",
       "    }\n",
       "</style>\n",
       "<table border=\"1\" class=\"dataframe\">\n",
       "  <thead>\n",
       "    <tr style=\"text-align: right;\">\n",
       "      <th></th>\n",
       "      <th>index</th>\n",
       "      <th>id</th>\n",
       "      <th>name</th>\n",
       "      <th>alias</th>\n",
       "      <th>iata</th>\n",
       "      <th>icao</th>\n",
       "      <th>callsign</th>\n",
       "      <th>country</th>\n",
       "      <th>active</th>\n",
       "    </tr>\n",
       "  </thead>\n",
       "  <tbody>\n",
       "    <tr>\n",
       "      <th>0</th>\n",
       "      <td>0</td>\n",
       "      <td>1</td>\n",
       "      <td>Private flight</td>\n",
       "      <td>\\N</td>\n",
       "      <td>-</td>\n",
       "      <td>None</td>\n",
       "      <td>None</td>\n",
       "      <td>None</td>\n",
       "      <td>Y</td>\n",
       "    </tr>\n",
       "    <tr>\n",
       "      <th>1</th>\n",
       "      <td>4497</td>\n",
       "      <td>4506</td>\n",
       "      <td>Sedalia</td>\n",
       "      <td>\\N</td>\n",
       "      <td>None</td>\n",
       "      <td>STG</td>\n",
       "      <td>Marshall</td>\n",
       "      <td>Boonville Stage Line</td>\n",
       "      <td>N</td>\n",
       "    </tr>\n",
       "    <tr>\n",
       "      <th>2</th>\n",
       "      <td>410</td>\n",
       "      <td>411</td>\n",
       "      <td>Aires</td>\n",
       "      <td>\\N</td>\n",
       "      <td>4C</td>\n",
       "      <td>ARE</td>\n",
       "      <td>Aerovias de Integracion Regional</td>\n",
       "      <td>S.A.</td>\n",
       "      <td>Y</td>\n",
       "    </tr>\n",
       "    <tr>\n",
       "      <th>3</th>\n",
       "      <td>4447</td>\n",
       "      <td>4456</td>\n",
       "      <td>Southern Jersey Airways</td>\n",
       "      <td>\\N</td>\n",
       "      <td>None</td>\n",
       "      <td>ALC</td>\n",
       "      <td>Inc.</td>\n",
       "      <td>ACOM</td>\n",
       "      <td>N</td>\n",
       "    </tr>\n",
       "    <tr>\n",
       "      <th>4</th>\n",
       "      <td>530</td>\n",
       "      <td>531</td>\n",
       "      <td>Active Aero Charter</td>\n",
       "      <td>\\N</td>\n",
       "      <td>None</td>\n",
       "      <td>AVR</td>\n",
       "      <td>Inc.</td>\n",
       "      <td>ACTIVE AERO</td>\n",
       "      <td>N</td>\n",
       "    </tr>\n",
       "    <tr>\n",
       "      <th>...</th>\n",
       "      <td>...</td>\n",
       "      <td>...</td>\n",
       "      <td>...</td>\n",
       "      <td>...</td>\n",
       "      <td>...</td>\n",
       "      <td>...</td>\n",
       "      <td>...</td>\n",
       "      <td>...</td>\n",
       "      <td>...</td>\n",
       "    </tr>\n",
       "    <tr>\n",
       "      <th>272</th>\n",
       "      <td>3508</td>\n",
       "      <td>3514</td>\n",
       "      <td>Ministry of Agriculture</td>\n",
       "      <td>\\N</td>\n",
       "      <td>None</td>\n",
       "      <td>WDG</td>\n",
       "      <td>Fisheries and Food</td>\n",
       "      <td>WATCHDOG</td>\n",
       "      <td>N</td>\n",
       "    </tr>\n",
       "    <tr>\n",
       "      <th>273</th>\n",
       "      <td>4570</td>\n",
       "      <td>4579</td>\n",
       "      <td>Sheba Aviation</td>\n",
       "      <td>\\N</td>\n",
       "      <td>None</td>\n",
       "      <td>SYE</td>\n",
       "      <td>None</td>\n",
       "      <td>Yemen</td>\n",
       "      <td>N</td>\n",
       "    </tr>\n",
       "    <tr>\n",
       "      <th>274</th>\n",
       "      <td>159</td>\n",
       "      <td>160</td>\n",
       "      <td>Africa Freight Services</td>\n",
       "      <td>\\N</td>\n",
       "      <td>None</td>\n",
       "      <td>AFZ</td>\n",
       "      <td>AFREIGHT</td>\n",
       "      <td>Zambia</td>\n",
       "      <td>N</td>\n",
       "    </tr>\n",
       "    <tr>\n",
       "      <th>275</th>\n",
       "      <td>607</td>\n",
       "      <td>608</td>\n",
       "      <td>Air Zimbabwe</td>\n",
       "      <td>\\N</td>\n",
       "      <td>UM</td>\n",
       "      <td>AZW</td>\n",
       "      <td>AIR ZIMBABWE</td>\n",
       "      <td>Zimbabwe</td>\n",
       "      <td>Y</td>\n",
       "    </tr>\n",
       "    <tr>\n",
       "      <th>276</th>\n",
       "      <td>5503</td>\n",
       "      <td>5533</td>\n",
       "      <td>Tyrolean Airways</td>\n",
       "      <td>\\N</td>\n",
       "      <td>\\N</td>\n",
       "      <td>TYR</td>\n",
       "      <td>TYROLEAN</td>\n",
       "      <td>\\N</td>\n",
       "      <td>Y</td>\n",
       "    </tr>\n",
       "  </tbody>\n",
       "</table>\n",
       "<p>277 rows × 9 columns</p>\n",
       "</div>"
      ],
      "text/plain": [
       "     index    id                     name alias  iata  icao  \\\n",
       "0        0     1           Private flight    \\N     -  None   \n",
       "1     4497  4506                  Sedalia    \\N  None   STG   \n",
       "2      410   411                    Aires    \\N    4C   ARE   \n",
       "3     4447  4456  Southern Jersey Airways    \\N  None   ALC   \n",
       "4      530   531      Active Aero Charter    \\N  None   AVR   \n",
       "..     ...   ...                      ...   ...   ...   ...   \n",
       "272   3508  3514  Ministry of Agriculture    \\N  None   WDG   \n",
       "273   4570  4579           Sheba Aviation    \\N  None   SYE   \n",
       "274    159   160  Africa Freight Services    \\N  None   AFZ   \n",
       "275    607   608             Air Zimbabwe    \\N    UM   AZW   \n",
       "276   5503  5533         Tyrolean Airways    \\N    \\N   TYR   \n",
       "\n",
       "                              callsign                country active  \n",
       "0                                 None                   None      Y  \n",
       "1                             Marshall   Boonville Stage Line      N  \n",
       "2     Aerovias de Integracion Regional                   S.A.      Y  \n",
       "3                                 Inc.                   ACOM      N  \n",
       "4                                 Inc.            ACTIVE AERO      N  \n",
       "..                                 ...                    ...    ...  \n",
       "272                 Fisheries and Food               WATCHDOG      N  \n",
       "273                               None                  Yemen      N  \n",
       "274                           AFREIGHT                 Zambia      N  \n",
       "275                       AIR ZIMBABWE               Zimbabwe      Y  \n",
       "276                           TYROLEAN                     \\N      Y  \n",
       "\n",
       "[277 rows x 9 columns]"
      ]
     },
     "execution_count": 99,
     "metadata": {},
     "output_type": "execute_result"
    }
   ],
   "source": [
    "pd.read_sql('''\n",
    "    SELECT\n",
    "        *\n",
    "    FROM\n",
    "        airlines\n",
    "    GROUP BY\n",
    "        country\n",
    "''', conn)"
   ]
  },
  {
   "cell_type": "markdown",
   "metadata": {
    "hidden": true
   },
   "source": [
    "> Note that the `GROUP BY` clause is considered _before_ the `ORDER BY` and `LIMIT` clauses"
   ]
  },
  {
   "cell_type": "markdown",
   "metadata": {
    "heading_collapsed": true,
    "hidden": true
   },
   "source": [
    "## Exercise: Grouping"
   ]
  },
  {
   "cell_type": "markdown",
   "metadata": {
    "hidden": true
   },
   "source": [
    "- Run a query that will return the number of airports by time zone. Each row should have a number of airports and a time zone."
   ]
  },
  {
   "cell_type": "code",
   "execution_count": 100,
   "metadata": {
    "hidden": true
   },
   "outputs": [
    {
     "data": {
      "text/html": [
       "<div>\n",
       "<style scoped>\n",
       "    .dataframe tbody tr th:only-of-type {\n",
       "        vertical-align: middle;\n",
       "    }\n",
       "\n",
       "    .dataframe tbody tr th {\n",
       "        vertical-align: top;\n",
       "    }\n",
       "\n",
       "    .dataframe thead th {\n",
       "        text-align: right;\n",
       "    }\n",
       "</style>\n",
       "<table border=\"1\" class=\"dataframe\">\n",
       "  <thead>\n",
       "    <tr style=\"text-align: right;\">\n",
       "      <th></th>\n",
       "      <th>timezone</th>\n",
       "      <th>num_of_airports</th>\n",
       "    </tr>\n",
       "  </thead>\n",
       "  <tbody>\n",
       "    <tr>\n",
       "      <th>0</th>\n",
       "      <td>America/New_York</td>\n",
       "      <td>628</td>\n",
       "    </tr>\n",
       "    <tr>\n",
       "      <th>1</th>\n",
       "      <td>America/Chicago</td>\n",
       "      <td>373</td>\n",
       "    </tr>\n",
       "    <tr>\n",
       "      <th>2</th>\n",
       "      <td>Europe/Berlin</td>\n",
       "      <td>319</td>\n",
       "    </tr>\n",
       "    <tr>\n",
       "      <th>3</th>\n",
       "      <td>America/Anchorage</td>\n",
       "      <td>258</td>\n",
       "    </tr>\n",
       "    <tr>\n",
       "      <th>4</th>\n",
       "      <td>Europe/Paris</td>\n",
       "      <td>232</td>\n",
       "    </tr>\n",
       "    <tr>\n",
       "      <th>...</th>\n",
       "      <td>...</td>\n",
       "      <td>...</td>\n",
       "    </tr>\n",
       "    <tr>\n",
       "      <th>289</th>\n",
       "      <td>America/Anguilla</td>\n",
       "      <td>1</td>\n",
       "    </tr>\n",
       "    <tr>\n",
       "      <th>290</th>\n",
       "      <td>Africa/Porto-Novo</td>\n",
       "      <td>1</td>\n",
       "    </tr>\n",
       "    <tr>\n",
       "      <th>291</th>\n",
       "      <td>Africa/Mbabane</td>\n",
       "      <td>1</td>\n",
       "    </tr>\n",
       "    <tr>\n",
       "      <th>292</th>\n",
       "      <td>Africa/Bujumbura</td>\n",
       "      <td>1</td>\n",
       "    </tr>\n",
       "    <tr>\n",
       "      <th>293</th>\n",
       "      <td>Africa/Banjul</td>\n",
       "      <td>1</td>\n",
       "    </tr>\n",
       "  </tbody>\n",
       "</table>\n",
       "<p>294 rows × 2 columns</p>\n",
       "</div>"
      ],
      "text/plain": [
       "              timezone  num_of_airports\n",
       "0     America/New_York              628\n",
       "1      America/Chicago              373\n",
       "2        Europe/Berlin              319\n",
       "3    America/Anchorage              258\n",
       "4         Europe/Paris              232\n",
       "..                 ...              ...\n",
       "289   America/Anguilla                1\n",
       "290  Africa/Porto-Novo                1\n",
       "291     Africa/Mbabane                1\n",
       "292   Africa/Bujumbura                1\n",
       "293      Africa/Banjul                1\n",
       "\n",
       "[294 rows x 2 columns]"
      ]
     },
     "execution_count": 100,
     "metadata": {},
     "output_type": "execute_result"
    }
   ],
   "source": [
    "# Your code here\n",
    "pd.read_sql('''\n",
    "    SELECT\n",
    "        timezone, \n",
    "        COUNT(*) AS num_of_airports\n",
    "    FROM\n",
    "        airports\n",
    "    GROUP BY\n",
    "        timezone\n",
    "    ORDER BY\n",
    "        num_of_airports DESC\n",
    "        \n",
    "''', conn)"
   ]
  },
  {
   "cell_type": "markdown",
   "metadata": {
    "heading_collapsed": true,
    "hidden": true
   },
   "source": [
    "<details>\n",
    "    <summary><b>Possible Solution</b></summary>\n",
    "\n",
    "``` sql\n",
    "pd.read_sql('''\n",
    "    SELECT \n",
    "        airports.timezone\n",
    "        ,COUNT() AS num_of_airports\n",
    "    FROM \n",
    "        airports\n",
    "    GROUP BY\n",
    "        airports.timezone\n",
    "    ORDER BY\n",
    "        num_of_airports DESC\n",
    "''', conn) ```\n",
    "</details>"
   ]
  },
  {
   "cell_type": "markdown",
   "metadata": {
    "heading_collapsed": true
   },
   "source": [
    "# Filtering Groups with `HAVING`"
   ]
  },
  {
   "cell_type": "markdown",
   "metadata": {
    "hidden": true
   },
   "source": [
    "We showed that you can filter tables with `WHERE`. We can similarly filter _groups/aggregations_ using `HAVING` clauses."
   ]
  },
  {
   "cell_type": "markdown",
   "metadata": {
    "heading_collapsed": true,
    "hidden": true
   },
   "source": [
    "## Examples of Using `HAVING`"
   ]
  },
  {
   "cell_type": "markdown",
   "metadata": {
    "heading_collapsed": true,
    "hidden": true
   },
   "source": [
    "### Simple Filtering - Number of Airports in a Country"
   ]
  },
  {
   "cell_type": "markdown",
   "metadata": {
    "hidden": true
   },
   "source": [
    "Let's come back to the aggregation of active airports:"
   ]
  },
  {
   "cell_type": "code",
   "execution_count": 101,
   "metadata": {
    "hidden": true
   },
   "outputs": [
    {
     "data": {
      "text/html": [
       "<div>\n",
       "<style scoped>\n",
       "    .dataframe tbody tr th:only-of-type {\n",
       "        vertical-align: middle;\n",
       "    }\n",
       "\n",
       "    .dataframe tbody tr th {\n",
       "        vertical-align: top;\n",
       "    }\n",
       "\n",
       "    .dataframe thead th {\n",
       "        text-align: right;\n",
       "    }\n",
       "</style>\n",
       "<table border=\"1\" class=\"dataframe\">\n",
       "  <thead>\n",
       "    <tr style=\"text-align: right;\">\n",
       "      <th></th>\n",
       "      <th>num</th>\n",
       "      <th>country</th>\n",
       "    </tr>\n",
       "  </thead>\n",
       "  <tbody>\n",
       "    <tr>\n",
       "      <th>0</th>\n",
       "      <td>141</td>\n",
       "      <td>United States</td>\n",
       "    </tr>\n",
       "    <tr>\n",
       "      <th>1</th>\n",
       "      <td>72</td>\n",
       "      <td>Russia</td>\n",
       "    </tr>\n",
       "    <tr>\n",
       "      <th>2</th>\n",
       "      <td>40</td>\n",
       "      <td>United Kingdom</td>\n",
       "    </tr>\n",
       "    <tr>\n",
       "      <th>3</th>\n",
       "      <td>37</td>\n",
       "      <td>Germany</td>\n",
       "    </tr>\n",
       "    <tr>\n",
       "      <th>4</th>\n",
       "      <td>34</td>\n",
       "      <td>Canada</td>\n",
       "    </tr>\n",
       "    <tr>\n",
       "      <th>...</th>\n",
       "      <td>...</td>\n",
       "      <td>...</td>\n",
       "    </tr>\n",
       "    <tr>\n",
       "      <th>190</th>\n",
       "      <td>1</td>\n",
       "      <td>Antigua and Barbuda</td>\n",
       "    </tr>\n",
       "    <tr>\n",
       "      <th>191</th>\n",
       "      <td>1</td>\n",
       "      <td>American Samoa</td>\n",
       "    </tr>\n",
       "    <tr>\n",
       "      <th>192</th>\n",
       "      <td>1</td>\n",
       "      <td>AVIANCA</td>\n",
       "    </tr>\n",
       "    <tr>\n",
       "      <th>193</th>\n",
       "      <td>1</td>\n",
       "      <td>ALASKA</td>\n",
       "    </tr>\n",
       "    <tr>\n",
       "      <th>194</th>\n",
       "      <td>1</td>\n",
       "      <td>S.A.</td>\n",
       "    </tr>\n",
       "  </tbody>\n",
       "</table>\n",
       "<p>195 rows × 2 columns</p>\n",
       "</div>"
      ],
      "text/plain": [
       "     num              country\n",
       "0    141        United States\n",
       "1     72               Russia\n",
       "2     40       United Kingdom\n",
       "3     37              Germany\n",
       "4     34               Canada\n",
       "..   ...                  ...\n",
       "190    1  Antigua and Barbuda\n",
       "191    1       American Samoa\n",
       "192    1              AVIANCA\n",
       "193    1               ALASKA\n",
       "194    1                 S.A.\n",
       "\n",
       "[195 rows x 2 columns]"
      ]
     },
     "execution_count": 101,
     "metadata": {},
     "output_type": "execute_result"
    }
   ],
   "source": [
    "pd.read_sql('''\n",
    "    SELECT \n",
    "        COUNT() AS num,\n",
    "        country\n",
    "    FROM \n",
    "        airlines\n",
    "    WHERE \n",
    "        active='Y'\n",
    "    GROUP BY \n",
    "        country\n",
    "    ORDER BY \n",
    "        num DESC\n",
    "''', conn)"
   ]
  },
  {
   "cell_type": "markdown",
   "metadata": {
    "hidden": true
   },
   "source": [
    "We can see we have a lot of results. But maybe we only want to keep the countries that have more than $30$ active airlines:"
   ]
  },
  {
   "cell_type": "code",
   "execution_count": 102,
   "metadata": {
    "hidden": true
   },
   "outputs": [
    {
     "data": {
      "text/html": [
       "<div>\n",
       "<style scoped>\n",
       "    .dataframe tbody tr th:only-of-type {\n",
       "        vertical-align: middle;\n",
       "    }\n",
       "\n",
       "    .dataframe tbody tr th {\n",
       "        vertical-align: top;\n",
       "    }\n",
       "\n",
       "    .dataframe thead th {\n",
       "        text-align: right;\n",
       "    }\n",
       "</style>\n",
       "<table border=\"1\" class=\"dataframe\">\n",
       "  <thead>\n",
       "    <tr style=\"text-align: right;\">\n",
       "      <th></th>\n",
       "      <th>country</th>\n",
       "      <th>num</th>\n",
       "    </tr>\n",
       "  </thead>\n",
       "  <tbody>\n",
       "    <tr>\n",
       "      <th>0</th>\n",
       "      <td>United States</td>\n",
       "      <td>141</td>\n",
       "    </tr>\n",
       "    <tr>\n",
       "      <th>1</th>\n",
       "      <td>Russia</td>\n",
       "      <td>72</td>\n",
       "    </tr>\n",
       "    <tr>\n",
       "      <th>2</th>\n",
       "      <td>United Kingdom</td>\n",
       "      <td>40</td>\n",
       "    </tr>\n",
       "    <tr>\n",
       "      <th>3</th>\n",
       "      <td>Germany</td>\n",
       "      <td>37</td>\n",
       "    </tr>\n",
       "    <tr>\n",
       "      <th>4</th>\n",
       "      <td>Canada</td>\n",
       "      <td>34</td>\n",
       "    </tr>\n",
       "  </tbody>\n",
       "</table>\n",
       "</div>"
      ],
      "text/plain": [
       "          country  num\n",
       "0   United States  141\n",
       "1          Russia   72\n",
       "2  United Kingdom   40\n",
       "3         Germany   37\n",
       "4          Canada   34"
      ]
     },
     "execution_count": 102,
     "metadata": {},
     "output_type": "execute_result"
    }
   ],
   "source": [
    "#Add SQL code to only keep the countries that have more than 30 active airlines\n",
    "pd.read_sql('''\n",
    "    SELECT \n",
    "        country,\n",
    "        COUNT() AS num\n",
    "    FROM \n",
    "        airlines\n",
    "    WHERE\n",
    "        active='Y'\n",
    "    GROUP BY \n",
    "        country\n",
    "    HAVING\n",
    "        num > 30    \n",
    "    ORDER BY \n",
    "        num DESC\n",
    "''', conn)"
   ]
  },
  {
   "cell_type": "markdown",
   "metadata": {
    "heading_collapsed": true,
    "hidden": true
   },
   "source": [
    "## Filtering Different Aggregations - Airport Altitudes"
   ]
  },
  {
   "cell_type": "markdown",
   "metadata": {
    "hidden": true
   },
   "source": [
    "We can also filter on other aggregations. For example, let's say we want to investigate the `airports` table."
   ]
  },
  {
   "cell_type": "markdown",
   "metadata": {
    "hidden": true
   },
   "source": [
    "Specifically, we want to know the height of the _highest airport_ in a country given that it has _at least $100$ airports_."
   ]
  },
  {
   "cell_type": "markdown",
   "metadata": {
    "heading_collapsed": true,
    "hidden": true
   },
   "source": [
    "### Looking at the `airports` Table"
   ]
  },
  {
   "cell_type": "code",
   "execution_count": 103,
   "metadata": {
    "hidden": true
   },
   "outputs": [
    {
     "data": {
      "text/html": [
       "<div>\n",
       "<style scoped>\n",
       "    .dataframe tbody tr th:only-of-type {\n",
       "        vertical-align: middle;\n",
       "    }\n",
       "\n",
       "    .dataframe tbody tr th {\n",
       "        vertical-align: top;\n",
       "    }\n",
       "\n",
       "    .dataframe thead th {\n",
       "        text-align: right;\n",
       "    }\n",
       "</style>\n",
       "<table border=\"1\" class=\"dataframe\">\n",
       "  <thead>\n",
       "    <tr style=\"text-align: right;\">\n",
       "      <th></th>\n",
       "      <th>country</th>\n",
       "      <th>num_of_airports</th>\n",
       "      <th>highest_airport</th>\n",
       "    </tr>\n",
       "  </thead>\n",
       "  <tbody>\n",
       "    <tr>\n",
       "      <th>0</th>\n",
       "      <td>Argentina</td>\n",
       "      <td>103</td>\n",
       "      <td>11414.0</td>\n",
       "    </tr>\n",
       "    <tr>\n",
       "      <th>1</th>\n",
       "      <td>Australia</td>\n",
       "      <td>263</td>\n",
       "      <td>4260.0</td>\n",
       "    </tr>\n",
       "    <tr>\n",
       "      <th>2</th>\n",
       "      <td>Brazil</td>\n",
       "      <td>213</td>\n",
       "      <td>8708.0</td>\n",
       "    </tr>\n",
       "    <tr>\n",
       "      <th>3</th>\n",
       "      <td>Canada</td>\n",
       "      <td>435</td>\n",
       "      <td>3939.0</td>\n",
       "    </tr>\n",
       "    <tr>\n",
       "      <th>4</th>\n",
       "      <td>China</td>\n",
       "      <td>219</td>\n",
       "      <td>14472.0</td>\n",
       "    </tr>\n",
       "  </tbody>\n",
       "</table>\n",
       "</div>"
      ],
      "text/plain": [
       "     country  num_of_airports  highest_airport\n",
       "0  Argentina              103          11414.0\n",
       "1  Australia              263           4260.0\n",
       "2     Brazil              213           8708.0\n",
       "3     Canada              435           3939.0\n",
       "4      China              219          14472.0"
      ]
     },
     "execution_count": 103,
     "metadata": {},
     "output_type": "execute_result"
    }
   ],
   "source": [
    "df_airports = pd.read_sql('''\n",
    "    SELECT \n",
    "        country, \n",
    "        COUNT(*) AS num_of_airports,\n",
    "        MAX(CAST(altitude as REAL)) AS highest_airport\n",
    "    FROM \n",
    "        airports\n",
    "    GROUP BY \n",
    "        country\n",
    "    HAVING\n",
    "        COUNT() >= 100\n",
    "    ORDER BY\n",
    "        country\n",
    "''', conn)\n",
    "\n",
    "df_airports.head()"
   ]
  },
  {
   "cell_type": "markdown",
   "metadata": {
    "heading_collapsed": true,
    "hidden": true
   },
   "source": [
    "### Looking at the Highest Airport"
   ]
  },
  {
   "cell_type": "code",
   "execution_count": 104,
   "metadata": {},
   "outputs": [
    {
     "data": {
      "text/html": [
       "<div>\n",
       "<style scoped>\n",
       "    .dataframe tbody tr th:only-of-type {\n",
       "        vertical-align: middle;\n",
       "    }\n",
       "\n",
       "    .dataframe tbody tr th {\n",
       "        vertical-align: top;\n",
       "    }\n",
       "\n",
       "    .dataframe thead th {\n",
       "        text-align: right;\n",
       "    }\n",
       "</style>\n",
       "<table border=\"1\" class=\"dataframe\">\n",
       "  <thead>\n",
       "    <tr style=\"text-align: right;\">\n",
       "      <th></th>\n",
       "      <th>city</th>\n",
       "      <th>MAX(CAST(altitude as REAL))</th>\n",
       "    </tr>\n",
       "  </thead>\n",
       "  <tbody>\n",
       "    <tr>\n",
       "      <th>0</th>\n",
       "      <td>Daocheng</td>\n",
       "      <td>14472.0</td>\n",
       "    </tr>\n",
       "  </tbody>\n",
       "</table>\n",
       "</div>"
      ],
      "text/plain": [
       "       city  MAX(CAST(altitude as REAL))\n",
       "0  Daocheng                      14472.0"
      ]
     },
     "execution_count": 104,
     "metadata": {},
     "output_type": "execute_result"
    }
   ],
   "source": [
    "df_airports = pd.read_sql('''\n",
    "    SELECT \n",
    "        city,\n",
    "        MAX(CAST(altitude as REAL))\n",
    "    FROM \n",
    "        airports\n",
    "    ORDER BY\n",
    "        city\n",
    "''', conn)\n",
    "\n",
    "df_airports.head()"
   ]
  },
  {
   "cell_type": "markdown",
   "metadata": {
    "hidden": true
   },
   "source": [
    "Let's first get the highest altitude for each airport:"
   ]
  },
  {
   "cell_type": "code",
   "execution_count": 105,
   "metadata": {
    "hidden": true
   },
   "outputs": [
    {
     "ename": "TypeError",
     "evalue": "'NoneType' object is not iterable",
     "output_type": "error",
     "traceback": [
      "\u001b[1;31m---------------------------------------------------------------------------\u001b[0m",
      "\u001b[1;31mTypeError\u001b[0m                                 Traceback (most recent call last)",
      "\u001b[1;32m<ipython-input-105-5b887614df83>\u001b[0m in \u001b[0;36m<module>\u001b[1;34m\u001b[0m\n\u001b[1;32m----> 1\u001b[1;33m pd.read_sql('''\n\u001b[0m\u001b[0;32m      2\u001b[0m \u001b[1;33m\u001b[0m\u001b[0m\n\u001b[0;32m      3\u001b[0m ''', conn)\n",
      "\u001b[1;32m~\\Anaconda3\\envs\\learn-env\\lib\\site-packages\\pandas\\io\\sql.py\u001b[0m in \u001b[0;36mread_sql\u001b[1;34m(sql, con, index_col, coerce_float, params, parse_dates, columns, chunksize)\u001b[0m\n\u001b[0;32m    481\u001b[0m \u001b[1;33m\u001b[0m\u001b[0m\n\u001b[0;32m    482\u001b[0m     \u001b[1;32mif\u001b[0m \u001b[0misinstance\u001b[0m\u001b[1;33m(\u001b[0m\u001b[0mpandas_sql\u001b[0m\u001b[1;33m,\u001b[0m \u001b[0mSQLiteDatabase\u001b[0m\u001b[1;33m)\u001b[0m\u001b[1;33m:\u001b[0m\u001b[1;33m\u001b[0m\u001b[1;33m\u001b[0m\u001b[0m\n\u001b[1;32m--> 483\u001b[1;33m         return pandas_sql.read_query(\n\u001b[0m\u001b[0;32m    484\u001b[0m             \u001b[0msql\u001b[0m\u001b[1;33m,\u001b[0m\u001b[1;33m\u001b[0m\u001b[1;33m\u001b[0m\u001b[0m\n\u001b[0;32m    485\u001b[0m             \u001b[0mindex_col\u001b[0m\u001b[1;33m=\u001b[0m\u001b[0mindex_col\u001b[0m\u001b[1;33m,\u001b[0m\u001b[1;33m\u001b[0m\u001b[1;33m\u001b[0m\u001b[0m\n",
      "\u001b[1;32m~\\Anaconda3\\envs\\learn-env\\lib\\site-packages\\pandas\\io\\sql.py\u001b[0m in \u001b[0;36mread_query\u001b[1;34m(self, sql, index_col, coerce_float, params, parse_dates, chunksize)\u001b[0m\n\u001b[0;32m   1726\u001b[0m         \u001b[0margs\u001b[0m \u001b[1;33m=\u001b[0m \u001b[0m_convert_params\u001b[0m\u001b[1;33m(\u001b[0m\u001b[0msql\u001b[0m\u001b[1;33m,\u001b[0m \u001b[0mparams\u001b[0m\u001b[1;33m)\u001b[0m\u001b[1;33m\u001b[0m\u001b[1;33m\u001b[0m\u001b[0m\n\u001b[0;32m   1727\u001b[0m         \u001b[0mcursor\u001b[0m \u001b[1;33m=\u001b[0m \u001b[0mself\u001b[0m\u001b[1;33m.\u001b[0m\u001b[0mexecute\u001b[0m\u001b[1;33m(\u001b[0m\u001b[1;33m*\u001b[0m\u001b[0margs\u001b[0m\u001b[1;33m)\u001b[0m\u001b[1;33m\u001b[0m\u001b[1;33m\u001b[0m\u001b[0m\n\u001b[1;32m-> 1728\u001b[1;33m         \u001b[0mcolumns\u001b[0m \u001b[1;33m=\u001b[0m \u001b[1;33m[\u001b[0m\u001b[0mcol_desc\u001b[0m\u001b[1;33m[\u001b[0m\u001b[1;36m0\u001b[0m\u001b[1;33m]\u001b[0m \u001b[1;32mfor\u001b[0m \u001b[0mcol_desc\u001b[0m \u001b[1;32min\u001b[0m \u001b[0mcursor\u001b[0m\u001b[1;33m.\u001b[0m\u001b[0mdescription\u001b[0m\u001b[1;33m]\u001b[0m\u001b[1;33m\u001b[0m\u001b[1;33m\u001b[0m\u001b[0m\n\u001b[0m\u001b[0;32m   1729\u001b[0m \u001b[1;33m\u001b[0m\u001b[0m\n\u001b[0;32m   1730\u001b[0m         \u001b[1;32mif\u001b[0m \u001b[0mchunksize\u001b[0m \u001b[1;32mis\u001b[0m \u001b[1;32mnot\u001b[0m \u001b[1;32mNone\u001b[0m\u001b[1;33m:\u001b[0m\u001b[1;33m\u001b[0m\u001b[1;33m\u001b[0m\u001b[0m\n",
      "\u001b[1;31mTypeError\u001b[0m: 'NoneType' object is not iterable"
     ]
    }
   ],
   "source": [
    "pd.read_sql('''\n",
    "    \n",
    "''', conn)"
   ]
  },
  {
   "cell_type": "markdown",
   "metadata": {
    "heading_collapsed": true,
    "hidden": true
   },
   "source": [
    "### Looking at the Number of Airports Too"
   ]
  },
  {
   "cell_type": "markdown",
   "metadata": {
    "hidden": true
   },
   "source": [
    "We can also get the number of airports for each country."
   ]
  },
  {
   "cell_type": "code",
   "execution_count": 106,
   "metadata": {
    "hidden": true
   },
   "outputs": [
    {
     "data": {
      "text/html": [
       "<div>\n",
       "<style scoped>\n",
       "    .dataframe tbody tr th:only-of-type {\n",
       "        vertical-align: middle;\n",
       "    }\n",
       "\n",
       "    .dataframe tbody tr th {\n",
       "        vertical-align: top;\n",
       "    }\n",
       "\n",
       "    .dataframe thead th {\n",
       "        text-align: right;\n",
       "    }\n",
       "</style>\n",
       "<table border=\"1\" class=\"dataframe\">\n",
       "  <thead>\n",
       "    <tr style=\"text-align: right;\">\n",
       "      <th></th>\n",
       "      <th>country</th>\n",
       "      <th>highest_airport_in_country</th>\n",
       "    </tr>\n",
       "  </thead>\n",
       "  <tbody>\n",
       "    <tr>\n",
       "      <th>0</th>\n",
       "      <td>Afghanistan</td>\n",
       "      <td>7400.0</td>\n",
       "    </tr>\n",
       "    <tr>\n",
       "      <th>1</th>\n",
       "      <td>Albania</td>\n",
       "      <td>126.0</td>\n",
       "    </tr>\n",
       "    <tr>\n",
       "      <th>2</th>\n",
       "      <td>Algeria</td>\n",
       "      <td>4518.0</td>\n",
       "    </tr>\n",
       "    <tr>\n",
       "      <th>3</th>\n",
       "      <td>American Samoa</td>\n",
       "      <td>110.0</td>\n",
       "    </tr>\n",
       "    <tr>\n",
       "      <th>4</th>\n",
       "      <td>Angola</td>\n",
       "      <td>5778.0</td>\n",
       "    </tr>\n",
       "    <tr>\n",
       "      <th>...</th>\n",
       "      <td>...</td>\n",
       "      <td>...</td>\n",
       "    </tr>\n",
       "    <tr>\n",
       "      <th>235</th>\n",
       "      <td>West Bank</td>\n",
       "      <td>2485.0</td>\n",
       "    </tr>\n",
       "    <tr>\n",
       "      <th>236</th>\n",
       "      <td>Western Sahara</td>\n",
       "      <td>350.0</td>\n",
       "    </tr>\n",
       "    <tr>\n",
       "      <th>237</th>\n",
       "      <td>Yemen</td>\n",
       "      <td>7216.0</td>\n",
       "    </tr>\n",
       "    <tr>\n",
       "      <th>238</th>\n",
       "      <td>Zambia</td>\n",
       "      <td>4636.0</td>\n",
       "    </tr>\n",
       "    <tr>\n",
       "      <th>239</th>\n",
       "      <td>Zimbabwe</td>\n",
       "      <td>4887.0</td>\n",
       "    </tr>\n",
       "  </tbody>\n",
       "</table>\n",
       "<p>240 rows × 2 columns</p>\n",
       "</div>"
      ],
      "text/plain": [
       "            country  highest_airport_in_country\n",
       "0       Afghanistan                      7400.0\n",
       "1           Albania                       126.0\n",
       "2           Algeria                      4518.0\n",
       "3    American Samoa                       110.0\n",
       "4            Angola                      5778.0\n",
       "..              ...                         ...\n",
       "235       West Bank                      2485.0\n",
       "236  Western Sahara                       350.0\n",
       "237           Yemen                      7216.0\n",
       "238          Zambia                      4636.0\n",
       "239        Zimbabwe                      4887.0\n",
       "\n",
       "[240 rows x 2 columns]"
      ]
     },
     "execution_count": 106,
     "metadata": {},
     "output_type": "execute_result"
    }
   ],
   "source": [
    "#Add in SQL code to also get the number of airports for each country\n",
    "pd.read_sql('''\n",
    "    SELECT \n",
    "        airports.country\n",
    "        ,MAX(\n",
    "            CAST(airports.altitude AS REAL)\n",
    "        ) AS highest_airport_in_country\n",
    "        \n",
    "    FROM\n",
    "        airports \n",
    "    GROUP BY\n",
    "        airports.country\n",
    "    ORDER BY\n",
    "        airports.country\n",
    "''', conn)"
   ]
  },
  {
   "cell_type": "markdown",
   "metadata": {
    "heading_collapsed": true,
    "hidden": true
   },
   "source": [
    "### Filtering on Aggregations"
   ]
  },
  {
   "cell_type": "markdown",
   "metadata": {
    "hidden": true
   },
   "source": [
    "> Recall:\n",
    ">\n",
    "> We want to know the height of the _highest airport_ in a country given that it has _at least $100$ airports_."
   ]
  },
  {
   "cell_type": "code",
   "execution_count": 107,
   "metadata": {
    "hidden": true
   },
   "outputs": [
    {
     "data": {
      "text/html": [
       "<div>\n",
       "<style scoped>\n",
       "    .dataframe tbody tr th:only-of-type {\n",
       "        vertical-align: middle;\n",
       "    }\n",
       "\n",
       "    .dataframe tbody tr th {\n",
       "        vertical-align: top;\n",
       "    }\n",
       "\n",
       "    .dataframe thead th {\n",
       "        text-align: right;\n",
       "    }\n",
       "</style>\n",
       "<table border=\"1\" class=\"dataframe\">\n",
       "  <thead>\n",
       "    <tr style=\"text-align: right;\">\n",
       "      <th></th>\n",
       "      <th>country</th>\n",
       "      <th>highest_airport_in_country</th>\n",
       "    </tr>\n",
       "  </thead>\n",
       "  <tbody>\n",
       "    <tr>\n",
       "      <th>0</th>\n",
       "      <td>Afghanistan</td>\n",
       "      <td>7400.0</td>\n",
       "    </tr>\n",
       "    <tr>\n",
       "      <th>1</th>\n",
       "      <td>Albania</td>\n",
       "      <td>126.0</td>\n",
       "    </tr>\n",
       "    <tr>\n",
       "      <th>2</th>\n",
       "      <td>Algeria</td>\n",
       "      <td>4518.0</td>\n",
       "    </tr>\n",
       "    <tr>\n",
       "      <th>3</th>\n",
       "      <td>American Samoa</td>\n",
       "      <td>110.0</td>\n",
       "    </tr>\n",
       "    <tr>\n",
       "      <th>4</th>\n",
       "      <td>Angola</td>\n",
       "      <td>5778.0</td>\n",
       "    </tr>\n",
       "    <tr>\n",
       "      <th>...</th>\n",
       "      <td>...</td>\n",
       "      <td>...</td>\n",
       "    </tr>\n",
       "    <tr>\n",
       "      <th>235</th>\n",
       "      <td>West Bank</td>\n",
       "      <td>2485.0</td>\n",
       "    </tr>\n",
       "    <tr>\n",
       "      <th>236</th>\n",
       "      <td>Western Sahara</td>\n",
       "      <td>350.0</td>\n",
       "    </tr>\n",
       "    <tr>\n",
       "      <th>237</th>\n",
       "      <td>Yemen</td>\n",
       "      <td>7216.0</td>\n",
       "    </tr>\n",
       "    <tr>\n",
       "      <th>238</th>\n",
       "      <td>Zambia</td>\n",
       "      <td>4636.0</td>\n",
       "    </tr>\n",
       "    <tr>\n",
       "      <th>239</th>\n",
       "      <td>Zimbabwe</td>\n",
       "      <td>4887.0</td>\n",
       "    </tr>\n",
       "  </tbody>\n",
       "</table>\n",
       "<p>240 rows × 2 columns</p>\n",
       "</div>"
      ],
      "text/plain": [
       "            country  highest_airport_in_country\n",
       "0       Afghanistan                      7400.0\n",
       "1           Albania                       126.0\n",
       "2           Algeria                      4518.0\n",
       "3    American Samoa                       110.0\n",
       "4            Angola                      5778.0\n",
       "..              ...                         ...\n",
       "235       West Bank                      2485.0\n",
       "236  Western Sahara                       350.0\n",
       "237           Yemen                      7216.0\n",
       "238          Zambia                      4636.0\n",
       "239        Zimbabwe                      4887.0\n",
       "\n",
       "[240 rows x 2 columns]"
      ]
     },
     "execution_count": 107,
     "metadata": {},
     "output_type": "execute_result"
    }
   ],
   "source": [
    "#Add in SQL code to only consider countries that have at least 100 airports\n",
    "pd.read_sql('''\n",
    "    SELECT \n",
    "        airports.country\n",
    "        ,MAX(\n",
    "            CAST(airports.altitude AS REAL)\n",
    "        ) AS highest_airport_in_country\n",
    "        -- Note we don't have to include this in our SELECT\n",
    "        --,COUNT() AS number_of_airports_in_country\n",
    "    FROM\n",
    "        airports \n",
    "    GROUP BY\n",
    "        airports.country\n",
    "    \n",
    "    ORDER BY\n",
    "        airports.country\n",
    "''', conn)"
   ]
  },
  {
   "cell_type": "markdown",
   "metadata": {
    "heading_collapsed": true
   },
   "source": [
    "# Joins"
   ]
  },
  {
   "cell_type": "markdown",
   "metadata": {
    "hidden": true
   },
   "source": [
    "The biggest advantage in using a relational database (like we have been with SQL) is that you can create **joins**."
   ]
  },
  {
   "cell_type": "markdown",
   "metadata": {
    "hidden": true
   },
   "source": [
    "> By using **`JOIN`** in our query, we can connect different tables using their _relationships_ to other tables.\n",
    ">\n",
    "> Usually we use a key (*foreign key*) to tell us how the two tables are related."
   ]
  },
  {
   "cell_type": "markdown",
   "metadata": {
    "hidden": true
   },
   "source": [
    "There are different types of joins and each has their different use case."
   ]
  },
  {
   "cell_type": "markdown",
   "metadata": {
    "heading_collapsed": true,
    "hidden": true
   },
   "source": [
    "## `INNER JOIN`"
   ]
  },
  {
   "cell_type": "markdown",
   "metadata": {
    "hidden": true
   },
   "source": [
    "> An **inner join** will join two tables together and only keep rows if the _key is in both tables_"
   ]
  },
  {
   "cell_type": "markdown",
   "metadata": {
    "hidden": true
   },
   "source": [
    "![](img/inner_join.png)"
   ]
  },
  {
   "cell_type": "markdown",
   "metadata": {
    "hidden": true
   },
   "source": [
    "Example of an inner join:\n",
    "\n",
    "```sql\n",
    "SELECT\n",
    "    table1.column_name,\n",
    "    table2.different_column_name\n",
    "FROM\n",
    "    table1\n",
    "    INNER JOIN table2\n",
    "        ON table1.shared_column_name = table2.shared_column_name\n",
    "```"
   ]
  },
  {
   "cell_type": "markdown",
   "metadata": {
    "heading_collapsed": true,
    "hidden": true
   },
   "source": [
    "### Code Example for Inner Joins"
   ]
  },
  {
   "cell_type": "markdown",
   "metadata": {
    "hidden": true
   },
   "source": [
    "Let's say we want to look at the different airplane routes"
   ]
  },
  {
   "cell_type": "code",
   "execution_count": 108,
   "metadata": {
    "hidden": true
   },
   "outputs": [
    {
     "data": {
      "text/html": [
       "<div>\n",
       "<style scoped>\n",
       "    .dataframe tbody tr th:only-of-type {\n",
       "        vertical-align: middle;\n",
       "    }\n",
       "\n",
       "    .dataframe tbody tr th {\n",
       "        vertical-align: top;\n",
       "    }\n",
       "\n",
       "    .dataframe thead th {\n",
       "        text-align: right;\n",
       "    }\n",
       "</style>\n",
       "<table border=\"1\" class=\"dataframe\">\n",
       "  <thead>\n",
       "    <tr style=\"text-align: right;\">\n",
       "      <th></th>\n",
       "      <th>index</th>\n",
       "      <th>airline</th>\n",
       "      <th>airline_id</th>\n",
       "      <th>source</th>\n",
       "      <th>source_id</th>\n",
       "      <th>dest</th>\n",
       "      <th>dest_id</th>\n",
       "      <th>codeshare</th>\n",
       "      <th>stops</th>\n",
       "      <th>equipment</th>\n",
       "      <th>index</th>\n",
       "      <th>id</th>\n",
       "      <th>name</th>\n",
       "      <th>alias</th>\n",
       "      <th>iata</th>\n",
       "      <th>icao</th>\n",
       "      <th>callsign</th>\n",
       "      <th>country</th>\n",
       "      <th>active</th>\n",
       "    </tr>\n",
       "  </thead>\n",
       "  <tbody>\n",
       "    <tr>\n",
       "      <th>0</th>\n",
       "      <td>0</td>\n",
       "      <td>2B</td>\n",
       "      <td>410</td>\n",
       "      <td>AER</td>\n",
       "      <td>2965</td>\n",
       "      <td>KZN</td>\n",
       "      <td>2990</td>\n",
       "      <td>None</td>\n",
       "      <td>0</td>\n",
       "      <td>CR2</td>\n",
       "      <td>409</td>\n",
       "      <td>410</td>\n",
       "      <td>Aerocondor</td>\n",
       "      <td>\\N</td>\n",
       "      <td>2B</td>\n",
       "      <td>ARD</td>\n",
       "      <td>AEROCONDOR</td>\n",
       "      <td>Portugal</td>\n",
       "      <td>Y</td>\n",
       "    </tr>\n",
       "    <tr>\n",
       "      <th>1</th>\n",
       "      <td>1</td>\n",
       "      <td>2B</td>\n",
       "      <td>410</td>\n",
       "      <td>ASF</td>\n",
       "      <td>2966</td>\n",
       "      <td>KZN</td>\n",
       "      <td>2990</td>\n",
       "      <td>None</td>\n",
       "      <td>0</td>\n",
       "      <td>CR2</td>\n",
       "      <td>409</td>\n",
       "      <td>410</td>\n",
       "      <td>Aerocondor</td>\n",
       "      <td>\\N</td>\n",
       "      <td>2B</td>\n",
       "      <td>ARD</td>\n",
       "      <td>AEROCONDOR</td>\n",
       "      <td>Portugal</td>\n",
       "      <td>Y</td>\n",
       "    </tr>\n",
       "    <tr>\n",
       "      <th>2</th>\n",
       "      <td>2</td>\n",
       "      <td>2B</td>\n",
       "      <td>410</td>\n",
       "      <td>ASF</td>\n",
       "      <td>2966</td>\n",
       "      <td>MRV</td>\n",
       "      <td>2962</td>\n",
       "      <td>None</td>\n",
       "      <td>0</td>\n",
       "      <td>CR2</td>\n",
       "      <td>409</td>\n",
       "      <td>410</td>\n",
       "      <td>Aerocondor</td>\n",
       "      <td>\\N</td>\n",
       "      <td>2B</td>\n",
       "      <td>ARD</td>\n",
       "      <td>AEROCONDOR</td>\n",
       "      <td>Portugal</td>\n",
       "      <td>Y</td>\n",
       "    </tr>\n",
       "    <tr>\n",
       "      <th>3</th>\n",
       "      <td>3</td>\n",
       "      <td>2B</td>\n",
       "      <td>410</td>\n",
       "      <td>CEK</td>\n",
       "      <td>2968</td>\n",
       "      <td>KZN</td>\n",
       "      <td>2990</td>\n",
       "      <td>None</td>\n",
       "      <td>0</td>\n",
       "      <td>CR2</td>\n",
       "      <td>409</td>\n",
       "      <td>410</td>\n",
       "      <td>Aerocondor</td>\n",
       "      <td>\\N</td>\n",
       "      <td>2B</td>\n",
       "      <td>ARD</td>\n",
       "      <td>AEROCONDOR</td>\n",
       "      <td>Portugal</td>\n",
       "      <td>Y</td>\n",
       "    </tr>\n",
       "    <tr>\n",
       "      <th>4</th>\n",
       "      <td>4</td>\n",
       "      <td>2B</td>\n",
       "      <td>410</td>\n",
       "      <td>CEK</td>\n",
       "      <td>2968</td>\n",
       "      <td>OVB</td>\n",
       "      <td>4078</td>\n",
       "      <td>None</td>\n",
       "      <td>0</td>\n",
       "      <td>CR2</td>\n",
       "      <td>409</td>\n",
       "      <td>410</td>\n",
       "      <td>Aerocondor</td>\n",
       "      <td>\\N</td>\n",
       "      <td>2B</td>\n",
       "      <td>ARD</td>\n",
       "      <td>AEROCONDOR</td>\n",
       "      <td>Portugal</td>\n",
       "      <td>Y</td>\n",
       "    </tr>\n",
       "    <tr>\n",
       "      <th>...</th>\n",
       "      <td>...</td>\n",
       "      <td>...</td>\n",
       "      <td>...</td>\n",
       "      <td>...</td>\n",
       "      <td>...</td>\n",
       "      <td>...</td>\n",
       "      <td>...</td>\n",
       "      <td>...</td>\n",
       "      <td>...</td>\n",
       "      <td>...</td>\n",
       "      <td>...</td>\n",
       "      <td>...</td>\n",
       "      <td>...</td>\n",
       "      <td>...</td>\n",
       "      <td>...</td>\n",
       "      <td>...</td>\n",
       "      <td>...</td>\n",
       "      <td>...</td>\n",
       "      <td>...</td>\n",
       "    </tr>\n",
       "    <tr>\n",
       "      <th>66980</th>\n",
       "      <td>67658</td>\n",
       "      <td>ZL</td>\n",
       "      <td>4178</td>\n",
       "      <td>WYA</td>\n",
       "      <td>6334</td>\n",
       "      <td>ADL</td>\n",
       "      <td>3341</td>\n",
       "      <td>None</td>\n",
       "      <td>0</td>\n",
       "      <td>SF3</td>\n",
       "      <td>4171</td>\n",
       "      <td>4178</td>\n",
       "      <td>Regional Express</td>\n",
       "      <td>\\N</td>\n",
       "      <td>ZL</td>\n",
       "      <td>RXA</td>\n",
       "      <td>REX</td>\n",
       "      <td>Australia</td>\n",
       "      <td>Y</td>\n",
       "    </tr>\n",
       "    <tr>\n",
       "      <th>66981</th>\n",
       "      <td>67659</td>\n",
       "      <td>ZM</td>\n",
       "      <td>19016</td>\n",
       "      <td>DME</td>\n",
       "      <td>4029</td>\n",
       "      <td>FRU</td>\n",
       "      <td>2912</td>\n",
       "      <td>None</td>\n",
       "      <td>0</td>\n",
       "      <td>734</td>\n",
       "      <td>5977</td>\n",
       "      <td>19016</td>\n",
       "      <td>Apache Air</td>\n",
       "      <td>Apache</td>\n",
       "      <td>ZM</td>\n",
       "      <td>IWA</td>\n",
       "      <td>APACHE</td>\n",
       "      <td>United States</td>\n",
       "      <td>Y</td>\n",
       "    </tr>\n",
       "    <tr>\n",
       "      <th>66982</th>\n",
       "      <td>67660</td>\n",
       "      <td>ZM</td>\n",
       "      <td>19016</td>\n",
       "      <td>FRU</td>\n",
       "      <td>2912</td>\n",
       "      <td>DME</td>\n",
       "      <td>4029</td>\n",
       "      <td>None</td>\n",
       "      <td>0</td>\n",
       "      <td>734</td>\n",
       "      <td>5977</td>\n",
       "      <td>19016</td>\n",
       "      <td>Apache Air</td>\n",
       "      <td>Apache</td>\n",
       "      <td>ZM</td>\n",
       "      <td>IWA</td>\n",
       "      <td>APACHE</td>\n",
       "      <td>United States</td>\n",
       "      <td>Y</td>\n",
       "    </tr>\n",
       "    <tr>\n",
       "      <th>66983</th>\n",
       "      <td>67661</td>\n",
       "      <td>ZM</td>\n",
       "      <td>19016</td>\n",
       "      <td>FRU</td>\n",
       "      <td>2912</td>\n",
       "      <td>OSS</td>\n",
       "      <td>2913</td>\n",
       "      <td>None</td>\n",
       "      <td>0</td>\n",
       "      <td>734</td>\n",
       "      <td>5977</td>\n",
       "      <td>19016</td>\n",
       "      <td>Apache Air</td>\n",
       "      <td>Apache</td>\n",
       "      <td>ZM</td>\n",
       "      <td>IWA</td>\n",
       "      <td>APACHE</td>\n",
       "      <td>United States</td>\n",
       "      <td>Y</td>\n",
       "    </tr>\n",
       "    <tr>\n",
       "      <th>66984</th>\n",
       "      <td>67662</td>\n",
       "      <td>ZM</td>\n",
       "      <td>19016</td>\n",
       "      <td>OSS</td>\n",
       "      <td>2913</td>\n",
       "      <td>FRU</td>\n",
       "      <td>2912</td>\n",
       "      <td>None</td>\n",
       "      <td>0</td>\n",
       "      <td>734</td>\n",
       "      <td>5977</td>\n",
       "      <td>19016</td>\n",
       "      <td>Apache Air</td>\n",
       "      <td>Apache</td>\n",
       "      <td>ZM</td>\n",
       "      <td>IWA</td>\n",
       "      <td>APACHE</td>\n",
       "      <td>United States</td>\n",
       "      <td>Y</td>\n",
       "    </tr>\n",
       "  </tbody>\n",
       "</table>\n",
       "<p>66985 rows × 19 columns</p>\n",
       "</div>"
      ],
      "text/plain": [
       "       index airline airline_id source source_id dest dest_id codeshare stops  \\\n",
       "0          0      2B        410    AER      2965  KZN    2990      None     0   \n",
       "1          1      2B        410    ASF      2966  KZN    2990      None     0   \n",
       "2          2      2B        410    ASF      2966  MRV    2962      None     0   \n",
       "3          3      2B        410    CEK      2968  KZN    2990      None     0   \n",
       "4          4      2B        410    CEK      2968  OVB    4078      None     0   \n",
       "...      ...     ...        ...    ...       ...  ...     ...       ...   ...   \n",
       "66980  67658      ZL       4178    WYA      6334  ADL    3341      None     0   \n",
       "66981  67659      ZM      19016    DME      4029  FRU    2912      None     0   \n",
       "66982  67660      ZM      19016    FRU      2912  DME    4029      None     0   \n",
       "66983  67661      ZM      19016    FRU      2912  OSS    2913      None     0   \n",
       "66984  67662      ZM      19016    OSS      2913  FRU    2912      None     0   \n",
       "\n",
       "      equipment  index     id              name   alias iata icao    callsign  \\\n",
       "0           CR2    409    410        Aerocondor      \\N   2B  ARD  AEROCONDOR   \n",
       "1           CR2    409    410        Aerocondor      \\N   2B  ARD  AEROCONDOR   \n",
       "2           CR2    409    410        Aerocondor      \\N   2B  ARD  AEROCONDOR   \n",
       "3           CR2    409    410        Aerocondor      \\N   2B  ARD  AEROCONDOR   \n",
       "4           CR2    409    410        Aerocondor      \\N   2B  ARD  AEROCONDOR   \n",
       "...         ...    ...    ...               ...     ...  ...  ...         ...   \n",
       "66980       SF3   4171   4178  Regional Express      \\N   ZL  RXA         REX   \n",
       "66981       734   5977  19016        Apache Air  Apache   ZM  IWA      APACHE   \n",
       "66982       734   5977  19016        Apache Air  Apache   ZM  IWA      APACHE   \n",
       "66983       734   5977  19016        Apache Air  Apache   ZM  IWA      APACHE   \n",
       "66984       734   5977  19016        Apache Air  Apache   ZM  IWA      APACHE   \n",
       "\n",
       "             country active  \n",
       "0           Portugal      Y  \n",
       "1           Portugal      Y  \n",
       "2           Portugal      Y  \n",
       "3           Portugal      Y  \n",
       "4           Portugal      Y  \n",
       "...              ...    ...  \n",
       "66980      Australia      Y  \n",
       "66981  United States      Y  \n",
       "66982  United States      Y  \n",
       "66983  United States      Y  \n",
       "66984  United States      Y  \n",
       "\n",
       "[66985 rows x 19 columns]"
      ]
     },
     "execution_count": 108,
     "metadata": {},
     "output_type": "execute_result"
    }
   ],
   "source": [
    "pd.read_sql('''\n",
    "    SELECT \n",
    "        *\n",
    "    FROM\n",
    "        routes\n",
    "        INNER JOIN airlines\n",
    "            ON routes.airline_id = airlines.id\n",
    "''', conn)"
   ]
  },
  {
   "cell_type": "markdown",
   "metadata": {
    "hidden": true
   },
   "source": [
    "This is great but notice the `airline_id` column. It'd be nice to have some more information about the airlines associated with these routes."
   ]
  },
  {
   "cell_type": "markdown",
   "metadata": {
    "hidden": true
   },
   "source": [
    "We can do an **inner join** to get this information!"
   ]
  },
  {
   "cell_type": "markdown",
   "metadata": {
    "heading_collapsed": true,
    "hidden": true
   },
   "source": [
    "#### Inner Join Routes & Airline Data"
   ]
  },
  {
   "cell_type": "code",
   "execution_count": 109,
   "metadata": {
    "hidden": true
   },
   "outputs": [
    {
     "data": {
      "text/html": [
       "<div>\n",
       "<style scoped>\n",
       "    .dataframe tbody tr th:only-of-type {\n",
       "        vertical-align: middle;\n",
       "    }\n",
       "\n",
       "    .dataframe tbody tr th {\n",
       "        vertical-align: top;\n",
       "    }\n",
       "\n",
       "    .dataframe thead th {\n",
       "        text-align: right;\n",
       "    }\n",
       "</style>\n",
       "<table border=\"1\" class=\"dataframe\">\n",
       "  <thead>\n",
       "    <tr style=\"text-align: right;\">\n",
       "      <th></th>\n",
       "      <th>index</th>\n",
       "      <th>airline</th>\n",
       "      <th>airline_id</th>\n",
       "      <th>source</th>\n",
       "      <th>source_id</th>\n",
       "      <th>dest</th>\n",
       "      <th>dest_id</th>\n",
       "      <th>codeshare</th>\n",
       "      <th>stops</th>\n",
       "      <th>equipment</th>\n",
       "      <th>index</th>\n",
       "      <th>id</th>\n",
       "      <th>name</th>\n",
       "      <th>alias</th>\n",
       "      <th>iata</th>\n",
       "      <th>icao</th>\n",
       "      <th>callsign</th>\n",
       "      <th>country</th>\n",
       "      <th>active</th>\n",
       "    </tr>\n",
       "  </thead>\n",
       "  <tbody>\n",
       "    <tr>\n",
       "      <th>0</th>\n",
       "      <td>0</td>\n",
       "      <td>2B</td>\n",
       "      <td>410</td>\n",
       "      <td>AER</td>\n",
       "      <td>2965</td>\n",
       "      <td>KZN</td>\n",
       "      <td>2990</td>\n",
       "      <td>None</td>\n",
       "      <td>0</td>\n",
       "      <td>CR2</td>\n",
       "      <td>409</td>\n",
       "      <td>410</td>\n",
       "      <td>Aerocondor</td>\n",
       "      <td>\\N</td>\n",
       "      <td>2B</td>\n",
       "      <td>ARD</td>\n",
       "      <td>AEROCONDOR</td>\n",
       "      <td>Portugal</td>\n",
       "      <td>Y</td>\n",
       "    </tr>\n",
       "    <tr>\n",
       "      <th>1</th>\n",
       "      <td>1</td>\n",
       "      <td>2B</td>\n",
       "      <td>410</td>\n",
       "      <td>ASF</td>\n",
       "      <td>2966</td>\n",
       "      <td>KZN</td>\n",
       "      <td>2990</td>\n",
       "      <td>None</td>\n",
       "      <td>0</td>\n",
       "      <td>CR2</td>\n",
       "      <td>409</td>\n",
       "      <td>410</td>\n",
       "      <td>Aerocondor</td>\n",
       "      <td>\\N</td>\n",
       "      <td>2B</td>\n",
       "      <td>ARD</td>\n",
       "      <td>AEROCONDOR</td>\n",
       "      <td>Portugal</td>\n",
       "      <td>Y</td>\n",
       "    </tr>\n",
       "    <tr>\n",
       "      <th>2</th>\n",
       "      <td>2</td>\n",
       "      <td>2B</td>\n",
       "      <td>410</td>\n",
       "      <td>ASF</td>\n",
       "      <td>2966</td>\n",
       "      <td>MRV</td>\n",
       "      <td>2962</td>\n",
       "      <td>None</td>\n",
       "      <td>0</td>\n",
       "      <td>CR2</td>\n",
       "      <td>409</td>\n",
       "      <td>410</td>\n",
       "      <td>Aerocondor</td>\n",
       "      <td>\\N</td>\n",
       "      <td>2B</td>\n",
       "      <td>ARD</td>\n",
       "      <td>AEROCONDOR</td>\n",
       "      <td>Portugal</td>\n",
       "      <td>Y</td>\n",
       "    </tr>\n",
       "    <tr>\n",
       "      <th>3</th>\n",
       "      <td>3</td>\n",
       "      <td>2B</td>\n",
       "      <td>410</td>\n",
       "      <td>CEK</td>\n",
       "      <td>2968</td>\n",
       "      <td>KZN</td>\n",
       "      <td>2990</td>\n",
       "      <td>None</td>\n",
       "      <td>0</td>\n",
       "      <td>CR2</td>\n",
       "      <td>409</td>\n",
       "      <td>410</td>\n",
       "      <td>Aerocondor</td>\n",
       "      <td>\\N</td>\n",
       "      <td>2B</td>\n",
       "      <td>ARD</td>\n",
       "      <td>AEROCONDOR</td>\n",
       "      <td>Portugal</td>\n",
       "      <td>Y</td>\n",
       "    </tr>\n",
       "    <tr>\n",
       "      <th>4</th>\n",
       "      <td>4</td>\n",
       "      <td>2B</td>\n",
       "      <td>410</td>\n",
       "      <td>CEK</td>\n",
       "      <td>2968</td>\n",
       "      <td>OVB</td>\n",
       "      <td>4078</td>\n",
       "      <td>None</td>\n",
       "      <td>0</td>\n",
       "      <td>CR2</td>\n",
       "      <td>409</td>\n",
       "      <td>410</td>\n",
       "      <td>Aerocondor</td>\n",
       "      <td>\\N</td>\n",
       "      <td>2B</td>\n",
       "      <td>ARD</td>\n",
       "      <td>AEROCONDOR</td>\n",
       "      <td>Portugal</td>\n",
       "      <td>Y</td>\n",
       "    </tr>\n",
       "    <tr>\n",
       "      <th>...</th>\n",
       "      <td>...</td>\n",
       "      <td>...</td>\n",
       "      <td>...</td>\n",
       "      <td>...</td>\n",
       "      <td>...</td>\n",
       "      <td>...</td>\n",
       "      <td>...</td>\n",
       "      <td>...</td>\n",
       "      <td>...</td>\n",
       "      <td>...</td>\n",
       "      <td>...</td>\n",
       "      <td>...</td>\n",
       "      <td>...</td>\n",
       "      <td>...</td>\n",
       "      <td>...</td>\n",
       "      <td>...</td>\n",
       "      <td>...</td>\n",
       "      <td>...</td>\n",
       "      <td>...</td>\n",
       "    </tr>\n",
       "    <tr>\n",
       "      <th>66980</th>\n",
       "      <td>67658</td>\n",
       "      <td>ZL</td>\n",
       "      <td>4178</td>\n",
       "      <td>WYA</td>\n",
       "      <td>6334</td>\n",
       "      <td>ADL</td>\n",
       "      <td>3341</td>\n",
       "      <td>None</td>\n",
       "      <td>0</td>\n",
       "      <td>SF3</td>\n",
       "      <td>4171</td>\n",
       "      <td>4178</td>\n",
       "      <td>Regional Express</td>\n",
       "      <td>\\N</td>\n",
       "      <td>ZL</td>\n",
       "      <td>RXA</td>\n",
       "      <td>REX</td>\n",
       "      <td>Australia</td>\n",
       "      <td>Y</td>\n",
       "    </tr>\n",
       "    <tr>\n",
       "      <th>66981</th>\n",
       "      <td>67659</td>\n",
       "      <td>ZM</td>\n",
       "      <td>19016</td>\n",
       "      <td>DME</td>\n",
       "      <td>4029</td>\n",
       "      <td>FRU</td>\n",
       "      <td>2912</td>\n",
       "      <td>None</td>\n",
       "      <td>0</td>\n",
       "      <td>734</td>\n",
       "      <td>5977</td>\n",
       "      <td>19016</td>\n",
       "      <td>Apache Air</td>\n",
       "      <td>Apache</td>\n",
       "      <td>ZM</td>\n",
       "      <td>IWA</td>\n",
       "      <td>APACHE</td>\n",
       "      <td>United States</td>\n",
       "      <td>Y</td>\n",
       "    </tr>\n",
       "    <tr>\n",
       "      <th>66982</th>\n",
       "      <td>67660</td>\n",
       "      <td>ZM</td>\n",
       "      <td>19016</td>\n",
       "      <td>FRU</td>\n",
       "      <td>2912</td>\n",
       "      <td>DME</td>\n",
       "      <td>4029</td>\n",
       "      <td>None</td>\n",
       "      <td>0</td>\n",
       "      <td>734</td>\n",
       "      <td>5977</td>\n",
       "      <td>19016</td>\n",
       "      <td>Apache Air</td>\n",
       "      <td>Apache</td>\n",
       "      <td>ZM</td>\n",
       "      <td>IWA</td>\n",
       "      <td>APACHE</td>\n",
       "      <td>United States</td>\n",
       "      <td>Y</td>\n",
       "    </tr>\n",
       "    <tr>\n",
       "      <th>66983</th>\n",
       "      <td>67661</td>\n",
       "      <td>ZM</td>\n",
       "      <td>19016</td>\n",
       "      <td>FRU</td>\n",
       "      <td>2912</td>\n",
       "      <td>OSS</td>\n",
       "      <td>2913</td>\n",
       "      <td>None</td>\n",
       "      <td>0</td>\n",
       "      <td>734</td>\n",
       "      <td>5977</td>\n",
       "      <td>19016</td>\n",
       "      <td>Apache Air</td>\n",
       "      <td>Apache</td>\n",
       "      <td>ZM</td>\n",
       "      <td>IWA</td>\n",
       "      <td>APACHE</td>\n",
       "      <td>United States</td>\n",
       "      <td>Y</td>\n",
       "    </tr>\n",
       "    <tr>\n",
       "      <th>66984</th>\n",
       "      <td>67662</td>\n",
       "      <td>ZM</td>\n",
       "      <td>19016</td>\n",
       "      <td>OSS</td>\n",
       "      <td>2913</td>\n",
       "      <td>FRU</td>\n",
       "      <td>2912</td>\n",
       "      <td>None</td>\n",
       "      <td>0</td>\n",
       "      <td>734</td>\n",
       "      <td>5977</td>\n",
       "      <td>19016</td>\n",
       "      <td>Apache Air</td>\n",
       "      <td>Apache</td>\n",
       "      <td>ZM</td>\n",
       "      <td>IWA</td>\n",
       "      <td>APACHE</td>\n",
       "      <td>United States</td>\n",
       "      <td>Y</td>\n",
       "    </tr>\n",
       "  </tbody>\n",
       "</table>\n",
       "<p>66985 rows × 19 columns</p>\n",
       "</div>"
      ],
      "text/plain": [
       "       index airline airline_id source source_id dest dest_id codeshare stops  \\\n",
       "0          0      2B        410    AER      2965  KZN    2990      None     0   \n",
       "1          1      2B        410    ASF      2966  KZN    2990      None     0   \n",
       "2          2      2B        410    ASF      2966  MRV    2962      None     0   \n",
       "3          3      2B        410    CEK      2968  KZN    2990      None     0   \n",
       "4          4      2B        410    CEK      2968  OVB    4078      None     0   \n",
       "...      ...     ...        ...    ...       ...  ...     ...       ...   ...   \n",
       "66980  67658      ZL       4178    WYA      6334  ADL    3341      None     0   \n",
       "66981  67659      ZM      19016    DME      4029  FRU    2912      None     0   \n",
       "66982  67660      ZM      19016    FRU      2912  DME    4029      None     0   \n",
       "66983  67661      ZM      19016    FRU      2912  OSS    2913      None     0   \n",
       "66984  67662      ZM      19016    OSS      2913  FRU    2912      None     0   \n",
       "\n",
       "      equipment  index     id              name   alias iata icao    callsign  \\\n",
       "0           CR2    409    410        Aerocondor      \\N   2B  ARD  AEROCONDOR   \n",
       "1           CR2    409    410        Aerocondor      \\N   2B  ARD  AEROCONDOR   \n",
       "2           CR2    409    410        Aerocondor      \\N   2B  ARD  AEROCONDOR   \n",
       "3           CR2    409    410        Aerocondor      \\N   2B  ARD  AEROCONDOR   \n",
       "4           CR2    409    410        Aerocondor      \\N   2B  ARD  AEROCONDOR   \n",
       "...         ...    ...    ...               ...     ...  ...  ...         ...   \n",
       "66980       SF3   4171   4178  Regional Express      \\N   ZL  RXA         REX   \n",
       "66981       734   5977  19016        Apache Air  Apache   ZM  IWA      APACHE   \n",
       "66982       734   5977  19016        Apache Air  Apache   ZM  IWA      APACHE   \n",
       "66983       734   5977  19016        Apache Air  Apache   ZM  IWA      APACHE   \n",
       "66984       734   5977  19016        Apache Air  Apache   ZM  IWA      APACHE   \n",
       "\n",
       "             country active  \n",
       "0           Portugal      Y  \n",
       "1           Portugal      Y  \n",
       "2           Portugal      Y  \n",
       "3           Portugal      Y  \n",
       "4           Portugal      Y  \n",
       "...              ...    ...  \n",
       "66980      Australia      Y  \n",
       "66981  United States      Y  \n",
       "66982  United States      Y  \n",
       "66983  United States      Y  \n",
       "66984  United States      Y  \n",
       "\n",
       "[66985 rows x 19 columns]"
      ]
     },
     "execution_count": 109,
     "metadata": {},
     "output_type": "execute_result"
    }
   ],
   "source": [
    "pd.read_sql('''\n",
    "    SELECT \n",
    "        *\n",
    "    FROM\n",
    "        routes\n",
    "        INNER JOIN airlines\n",
    "            ON routes.airline_id = airlines.id\n",
    "''', conn)"
   ]
  },
  {
   "cell_type": "markdown",
   "metadata": {
    "hidden": true
   },
   "source": [
    "We can also specify that we want to retain only certain columns in the `SELECT` clause:"
   ]
  },
  {
   "cell_type": "code",
   "execution_count": 56,
   "metadata": {
    "hidden": true
   },
   "outputs": [
    {
     "data": {
      "text/html": [
       "<div>\n",
       "<style scoped>\n",
       "    .dataframe tbody tr th:only-of-type {\n",
       "        vertical-align: middle;\n",
       "    }\n",
       "\n",
       "    .dataframe tbody tr th {\n",
       "        vertical-align: top;\n",
       "    }\n",
       "\n",
       "    .dataframe thead th {\n",
       "        text-align: right;\n",
       "    }\n",
       "</style>\n",
       "<table border=\"1\" class=\"dataframe\">\n",
       "  <thead>\n",
       "    <tr style=\"text-align: right;\">\n",
       "      <th></th>\n",
       "      <th>departing</th>\n",
       "      <th>destination</th>\n",
       "      <th>stops_before_destination</th>\n",
       "      <th>airline</th>\n",
       "    </tr>\n",
       "  </thead>\n",
       "  <tbody>\n",
       "    <tr>\n",
       "      <th>0</th>\n",
       "      <td>AER</td>\n",
       "      <td>KZN</td>\n",
       "      <td>0</td>\n",
       "      <td>Aerocondor</td>\n",
       "    </tr>\n",
       "    <tr>\n",
       "      <th>1</th>\n",
       "      <td>ASF</td>\n",
       "      <td>KZN</td>\n",
       "      <td>0</td>\n",
       "      <td>Aerocondor</td>\n",
       "    </tr>\n",
       "    <tr>\n",
       "      <th>2</th>\n",
       "      <td>ASF</td>\n",
       "      <td>MRV</td>\n",
       "      <td>0</td>\n",
       "      <td>Aerocondor</td>\n",
       "    </tr>\n",
       "    <tr>\n",
       "      <th>3</th>\n",
       "      <td>CEK</td>\n",
       "      <td>KZN</td>\n",
       "      <td>0</td>\n",
       "      <td>Aerocondor</td>\n",
       "    </tr>\n",
       "    <tr>\n",
       "      <th>4</th>\n",
       "      <td>CEK</td>\n",
       "      <td>OVB</td>\n",
       "      <td>0</td>\n",
       "      <td>Aerocondor</td>\n",
       "    </tr>\n",
       "    <tr>\n",
       "      <th>...</th>\n",
       "      <td>...</td>\n",
       "      <td>...</td>\n",
       "      <td>...</td>\n",
       "      <td>...</td>\n",
       "    </tr>\n",
       "    <tr>\n",
       "      <th>66980</th>\n",
       "      <td>WYA</td>\n",
       "      <td>ADL</td>\n",
       "      <td>0</td>\n",
       "      <td>Regional Express</td>\n",
       "    </tr>\n",
       "    <tr>\n",
       "      <th>66981</th>\n",
       "      <td>DME</td>\n",
       "      <td>FRU</td>\n",
       "      <td>0</td>\n",
       "      <td>Apache Air</td>\n",
       "    </tr>\n",
       "    <tr>\n",
       "      <th>66982</th>\n",
       "      <td>FRU</td>\n",
       "      <td>DME</td>\n",
       "      <td>0</td>\n",
       "      <td>Apache Air</td>\n",
       "    </tr>\n",
       "    <tr>\n",
       "      <th>66983</th>\n",
       "      <td>FRU</td>\n",
       "      <td>OSS</td>\n",
       "      <td>0</td>\n",
       "      <td>Apache Air</td>\n",
       "    </tr>\n",
       "    <tr>\n",
       "      <th>66984</th>\n",
       "      <td>OSS</td>\n",
       "      <td>FRU</td>\n",
       "      <td>0</td>\n",
       "      <td>Apache Air</td>\n",
       "    </tr>\n",
       "  </tbody>\n",
       "</table>\n",
       "<p>66985 rows × 4 columns</p>\n",
       "</div>"
      ],
      "text/plain": [
       "      departing destination stops_before_destination           airline\n",
       "0           AER         KZN                        0        Aerocondor\n",
       "1           ASF         KZN                        0        Aerocondor\n",
       "2           ASF         MRV                        0        Aerocondor\n",
       "3           CEK         KZN                        0        Aerocondor\n",
       "4           CEK         OVB                        0        Aerocondor\n",
       "...         ...         ...                      ...               ...\n",
       "66980       WYA         ADL                        0  Regional Express\n",
       "66981       DME         FRU                        0        Apache Air\n",
       "66982       FRU         DME                        0        Apache Air\n",
       "66983       FRU         OSS                        0        Apache Air\n",
       "66984       OSS         FRU                        0        Apache Air\n",
       "\n",
       "[66985 rows x 4 columns]"
      ]
     },
     "execution_count": 56,
     "metadata": {},
     "output_type": "execute_result"
    }
   ],
   "source": [
    "#Change code to use aliases\n",
    "pd.read_sql('''\n",
    "    SELECT \n",
    "        routes.source AS departing\n",
    "        ,routes.dest AS destination\n",
    "        ,routes.stops AS stops_before_destination\n",
    "        ,airlines.name AS airline\n",
    "    FROM\n",
    "        routes\n",
    "        INNER JOIN airlines\n",
    "            ON routes.airline_id = airlines.id\n",
    "''', conn)"
   ]
  },
  {
   "cell_type": "markdown",
   "metadata": {
    "heading_collapsed": true,
    "hidden": true
   },
   "source": [
    "#### Note: Losing Data with Inner Joins"
   ]
  },
  {
   "cell_type": "markdown",
   "metadata": {
    "hidden": true
   },
   "source": [
    "Since data rows are kept only if _both_ tables have the key, some data can be lost"
   ]
  },
  {
   "cell_type": "code",
   "execution_count": 58,
   "metadata": {
    "hidden": true
   },
   "outputs": [],
   "source": [
    "df_all_routes = pd.read_sql('''\n",
    "    SELECT \n",
    "        *\n",
    "    FROM\n",
    "        routes\n",
    "''', conn)\n",
    "\n",
    "df_routes_after_join = pd.read_sql('''\n",
    "    SELECT \n",
    "        *\n",
    "    FROM\n",
    "        routes\n",
    "        INNER JOIN airlines\n",
    "            ON routes.airline_id = airlines.id\n",
    "''', conn)"
   ]
  },
  {
   "cell_type": "code",
   "execution_count": 59,
   "metadata": {
    "hidden": true
   },
   "outputs": [
    {
     "data": {
      "text/plain": [
       "((67663, 10), (66985, 19))"
      ]
     },
     "execution_count": 59,
     "metadata": {},
     "output_type": "execute_result"
    }
   ],
   "source": [
    "# Look at how the number of rows are different\n",
    "df_all_routes.shape, df_routes_after_join.shape"
   ]
  },
  {
   "cell_type": "markdown",
   "metadata": {
    "hidden": true
   },
   "source": [
    "If you want to keep your data from at least one of your tables, you should use a left join instead of an inner join."
   ]
  },
  {
   "cell_type": "markdown",
   "metadata": {
    "heading_collapsed": true,
    "hidden": true
   },
   "source": [
    "## `LEFT JOIN`"
   ]
  },
  {
   "cell_type": "markdown",
   "metadata": {
    "hidden": true
   },
   "source": [
    "> A **left join** will join two tables together and but will keep all data from the first (left) table using the key provided."
   ]
  },
  {
   "cell_type": "markdown",
   "metadata": {
    "hidden": true
   },
   "source": [
    "![](img/left_join.png)"
   ]
  },
  {
   "cell_type": "markdown",
   "metadata": {
    "hidden": true
   },
   "source": [
    "Example of a left and right join:\n",
    "\n",
    "```sql\n",
    "SELECT\n",
    "    table1.column_name,\n",
    "    table2.different_column_name\n",
    "FROM\n",
    "    table1\n",
    "    LEFT JOIN table2\n",
    "        ON table1.shared_column_name = table2.shared_column_name\n",
    "```"
   ]
  },
  {
   "cell_type": "markdown",
   "metadata": {
    "heading_collapsed": true,
    "hidden": true
   },
   "source": [
    "### Code Example for Left Join"
   ]
  },
  {
   "cell_type": "markdown",
   "metadata": {
    "hidden": true
   },
   "source": [
    "Recall our example using an inner join and how it lost some data since the key wasn't in both the `routes` _and_ `airlines` tables. "
   ]
  },
  {
   "cell_type": "code",
   "execution_count": 60,
   "metadata": {
    "hidden": true
   },
   "outputs": [
    {
     "data": {
      "text/plain": [
       "((67663, 10), (66985, 19))"
      ]
     },
     "execution_count": 60,
     "metadata": {},
     "output_type": "execute_result"
    }
   ],
   "source": [
    "df_all_routes = pd.read_sql('''\n",
    "    SELECT \n",
    "        *\n",
    "    FROM\n",
    "        routes\n",
    "''', conn)\n",
    "\n",
    "# This will lose some data (some routes not included)\n",
    "df_routes_after_inner_join = pd.read_sql('''\n",
    "    SELECT \n",
    "        *\n",
    "    FROM\n",
    "        routes\n",
    "        INNER JOIN airlines\n",
    "            ON routes.airline_id = airlines.id\n",
    "''', conn)\n",
    "\n",
    "# The number of rows are different\n",
    "df_all_routes.shape, df_routes_after_inner_join.shape"
   ]
  },
  {
   "cell_type": "markdown",
   "metadata": {
    "hidden": true
   },
   "source": [
    "If wanted to ensure we always had every route even if the key in `airlines` was not found, we could do a `LEFT JOIN` instead of a `INNER JOIN`:"
   ]
  },
  {
   "cell_type": "code",
   "execution_count": 61,
   "metadata": {
    "hidden": true
   },
   "outputs": [
    {
     "data": {
      "text/plain": [
       "(67663, 19)"
      ]
     },
     "execution_count": 61,
     "metadata": {},
     "output_type": "execute_result"
    }
   ],
   "source": [
    "# This will include all the data from routes\n",
    "df_routes_after_left_join = pd.read_sql('''\n",
    "    SELECT \n",
    "        *\n",
    "    FROM\n",
    "        routes\n",
    "        LEFT JOIN airlines\n",
    "            ON routes.airline_id = airlines.id\n",
    "''', conn)\n",
    "\n",
    "df_routes_after_left_join.shape"
   ]
  },
  {
   "cell_type": "markdown",
   "metadata": {
    "heading_collapsed": true,
    "hidden": true
   },
   "source": [
    "## Exercise: Joins"
   ]
  },
  {
   "cell_type": "markdown",
   "metadata": {
    "hidden": true
   },
   "source": [
    "Which airline has the most routes listed in our database?"
   ]
  },
  {
   "cell_type": "code",
   "execution_count": 66,
   "metadata": {},
   "outputs": [
    {
     "data": {
      "text/html": [
       "<div>\n",
       "<style scoped>\n",
       "    .dataframe tbody tr th:only-of-type {\n",
       "        vertical-align: middle;\n",
       "    }\n",
       "\n",
       "    .dataframe tbody tr th {\n",
       "        vertical-align: top;\n",
       "    }\n",
       "\n",
       "    .dataframe thead th {\n",
       "        text-align: right;\n",
       "    }\n",
       "</style>\n",
       "<table border=\"1\" class=\"dataframe\">\n",
       "  <thead>\n",
       "    <tr style=\"text-align: right;\">\n",
       "      <th></th>\n",
       "      <th>index</th>\n",
       "      <th>airline</th>\n",
       "      <th>airline_id</th>\n",
       "      <th>source</th>\n",
       "      <th>source_id</th>\n",
       "      <th>dest</th>\n",
       "      <th>dest_id</th>\n",
       "      <th>codeshare</th>\n",
       "      <th>stops</th>\n",
       "      <th>equipment</th>\n",
       "    </tr>\n",
       "  </thead>\n",
       "  <tbody>\n",
       "    <tr>\n",
       "      <th>0</th>\n",
       "      <td>0</td>\n",
       "      <td>2B</td>\n",
       "      <td>410</td>\n",
       "      <td>AER</td>\n",
       "      <td>2965</td>\n",
       "      <td>KZN</td>\n",
       "      <td>2990</td>\n",
       "      <td>None</td>\n",
       "      <td>0</td>\n",
       "      <td>CR2</td>\n",
       "    </tr>\n",
       "    <tr>\n",
       "      <th>1</th>\n",
       "      <td>1</td>\n",
       "      <td>2B</td>\n",
       "      <td>410</td>\n",
       "      <td>ASF</td>\n",
       "      <td>2966</td>\n",
       "      <td>KZN</td>\n",
       "      <td>2990</td>\n",
       "      <td>None</td>\n",
       "      <td>0</td>\n",
       "      <td>CR2</td>\n",
       "    </tr>\n",
       "    <tr>\n",
       "      <th>2</th>\n",
       "      <td>2</td>\n",
       "      <td>2B</td>\n",
       "      <td>410</td>\n",
       "      <td>ASF</td>\n",
       "      <td>2966</td>\n",
       "      <td>MRV</td>\n",
       "      <td>2962</td>\n",
       "      <td>None</td>\n",
       "      <td>0</td>\n",
       "      <td>CR2</td>\n",
       "    </tr>\n",
       "    <tr>\n",
       "      <th>3</th>\n",
       "      <td>3</td>\n",
       "      <td>2B</td>\n",
       "      <td>410</td>\n",
       "      <td>CEK</td>\n",
       "      <td>2968</td>\n",
       "      <td>KZN</td>\n",
       "      <td>2990</td>\n",
       "      <td>None</td>\n",
       "      <td>0</td>\n",
       "      <td>CR2</td>\n",
       "    </tr>\n",
       "    <tr>\n",
       "      <th>4</th>\n",
       "      <td>4</td>\n",
       "      <td>2B</td>\n",
       "      <td>410</td>\n",
       "      <td>CEK</td>\n",
       "      <td>2968</td>\n",
       "      <td>OVB</td>\n",
       "      <td>4078</td>\n",
       "      <td>None</td>\n",
       "      <td>0</td>\n",
       "      <td>CR2</td>\n",
       "    </tr>\n",
       "    <tr>\n",
       "      <th>...</th>\n",
       "      <td>...</td>\n",
       "      <td>...</td>\n",
       "      <td>...</td>\n",
       "      <td>...</td>\n",
       "      <td>...</td>\n",
       "      <td>...</td>\n",
       "      <td>...</td>\n",
       "      <td>...</td>\n",
       "      <td>...</td>\n",
       "      <td>...</td>\n",
       "    </tr>\n",
       "    <tr>\n",
       "      <th>67658</th>\n",
       "      <td>67658</td>\n",
       "      <td>ZL</td>\n",
       "      <td>4178</td>\n",
       "      <td>WYA</td>\n",
       "      <td>6334</td>\n",
       "      <td>ADL</td>\n",
       "      <td>3341</td>\n",
       "      <td>None</td>\n",
       "      <td>0</td>\n",
       "      <td>SF3</td>\n",
       "    </tr>\n",
       "    <tr>\n",
       "      <th>67659</th>\n",
       "      <td>67659</td>\n",
       "      <td>ZM</td>\n",
       "      <td>19016</td>\n",
       "      <td>DME</td>\n",
       "      <td>4029</td>\n",
       "      <td>FRU</td>\n",
       "      <td>2912</td>\n",
       "      <td>None</td>\n",
       "      <td>0</td>\n",
       "      <td>734</td>\n",
       "    </tr>\n",
       "    <tr>\n",
       "      <th>67660</th>\n",
       "      <td>67660</td>\n",
       "      <td>ZM</td>\n",
       "      <td>19016</td>\n",
       "      <td>FRU</td>\n",
       "      <td>2912</td>\n",
       "      <td>DME</td>\n",
       "      <td>4029</td>\n",
       "      <td>None</td>\n",
       "      <td>0</td>\n",
       "      <td>734</td>\n",
       "    </tr>\n",
       "    <tr>\n",
       "      <th>67661</th>\n",
       "      <td>67661</td>\n",
       "      <td>ZM</td>\n",
       "      <td>19016</td>\n",
       "      <td>FRU</td>\n",
       "      <td>2912</td>\n",
       "      <td>OSS</td>\n",
       "      <td>2913</td>\n",
       "      <td>None</td>\n",
       "      <td>0</td>\n",
       "      <td>734</td>\n",
       "    </tr>\n",
       "    <tr>\n",
       "      <th>67662</th>\n",
       "      <td>67662</td>\n",
       "      <td>ZM</td>\n",
       "      <td>19016</td>\n",
       "      <td>OSS</td>\n",
       "      <td>2913</td>\n",
       "      <td>FRU</td>\n",
       "      <td>2912</td>\n",
       "      <td>None</td>\n",
       "      <td>0</td>\n",
       "      <td>734</td>\n",
       "    </tr>\n",
       "  </tbody>\n",
       "</table>\n",
       "<p>67663 rows × 10 columns</p>\n",
       "</div>"
      ],
      "text/plain": [
       "       index airline airline_id source source_id dest dest_id codeshare stops  \\\n",
       "0          0      2B        410    AER      2965  KZN    2990      None     0   \n",
       "1          1      2B        410    ASF      2966  KZN    2990      None     0   \n",
       "2          2      2B        410    ASF      2966  MRV    2962      None     0   \n",
       "3          3      2B        410    CEK      2968  KZN    2990      None     0   \n",
       "4          4      2B        410    CEK      2968  OVB    4078      None     0   \n",
       "...      ...     ...        ...    ...       ...  ...     ...       ...   ...   \n",
       "67658  67658      ZL       4178    WYA      6334  ADL    3341      None     0   \n",
       "67659  67659      ZM      19016    DME      4029  FRU    2912      None     0   \n",
       "67660  67660      ZM      19016    FRU      2912  DME    4029      None     0   \n",
       "67661  67661      ZM      19016    FRU      2912  OSS    2913      None     0   \n",
       "67662  67662      ZM      19016    OSS      2913  FRU    2912      None     0   \n",
       "\n",
       "      equipment  \n",
       "0           CR2  \n",
       "1           CR2  \n",
       "2           CR2  \n",
       "3           CR2  \n",
       "4           CR2  \n",
       "...         ...  \n",
       "67658       SF3  \n",
       "67659       734  \n",
       "67660       734  \n",
       "67661       734  \n",
       "67662       734  \n",
       "\n",
       "[67663 rows x 10 columns]"
      ]
     },
     "execution_count": 66,
     "metadata": {},
     "output_type": "execute_result"
    }
   ],
   "source": [
    "pd.read_sql(\"\"\"\n",
    "SELECT *\n",
    "FROM routes\n",
    "\"\"\", conn)\n"
   ]
  },
  {
   "cell_type": "code",
   "execution_count": 67,
   "metadata": {},
   "outputs": [
    {
     "data": {
      "text/html": [
       "<div>\n",
       "<style scoped>\n",
       "    .dataframe tbody tr th:only-of-type {\n",
       "        vertical-align: middle;\n",
       "    }\n",
       "\n",
       "    .dataframe tbody tr th {\n",
       "        vertical-align: top;\n",
       "    }\n",
       "\n",
       "    .dataframe thead th {\n",
       "        text-align: right;\n",
       "    }\n",
       "</style>\n",
       "<table border=\"1\" class=\"dataframe\">\n",
       "  <thead>\n",
       "    <tr style=\"text-align: right;\">\n",
       "      <th></th>\n",
       "      <th>index</th>\n",
       "      <th>id</th>\n",
       "      <th>name</th>\n",
       "      <th>alias</th>\n",
       "      <th>iata</th>\n",
       "      <th>icao</th>\n",
       "      <th>callsign</th>\n",
       "      <th>country</th>\n",
       "      <th>active</th>\n",
       "    </tr>\n",
       "  </thead>\n",
       "  <tbody>\n",
       "    <tr>\n",
       "      <th>0</th>\n",
       "      <td>0</td>\n",
       "      <td>1</td>\n",
       "      <td>Private flight</td>\n",
       "      <td>\\N</td>\n",
       "      <td>-</td>\n",
       "      <td>None</td>\n",
       "      <td>None</td>\n",
       "      <td>None</td>\n",
       "      <td>Y</td>\n",
       "    </tr>\n",
       "    <tr>\n",
       "      <th>1</th>\n",
       "      <td>1</td>\n",
       "      <td>2</td>\n",
       "      <td>135 Airways</td>\n",
       "      <td>\\N</td>\n",
       "      <td>None</td>\n",
       "      <td>GNL</td>\n",
       "      <td>GENERAL</td>\n",
       "      <td>United States</td>\n",
       "      <td>N</td>\n",
       "    </tr>\n",
       "    <tr>\n",
       "      <th>2</th>\n",
       "      <td>2</td>\n",
       "      <td>3</td>\n",
       "      <td>1Time Airline</td>\n",
       "      <td>\\N</td>\n",
       "      <td>1T</td>\n",
       "      <td>RNX</td>\n",
       "      <td>NEXTIME</td>\n",
       "      <td>South Africa</td>\n",
       "      <td>Y</td>\n",
       "    </tr>\n",
       "    <tr>\n",
       "      <th>3</th>\n",
       "      <td>3</td>\n",
       "      <td>4</td>\n",
       "      <td>2 Sqn No 1 Elementary Flying Training School</td>\n",
       "      <td>\\N</td>\n",
       "      <td>None</td>\n",
       "      <td>WYT</td>\n",
       "      <td>None</td>\n",
       "      <td>United Kingdom</td>\n",
       "      <td>N</td>\n",
       "    </tr>\n",
       "    <tr>\n",
       "      <th>4</th>\n",
       "      <td>4</td>\n",
       "      <td>5</td>\n",
       "      <td>213 Flight Unit</td>\n",
       "      <td>\\N</td>\n",
       "      <td>None</td>\n",
       "      <td>TFU</td>\n",
       "      <td>None</td>\n",
       "      <td>Russia</td>\n",
       "      <td>N</td>\n",
       "    </tr>\n",
       "    <tr>\n",
       "      <th>...</th>\n",
       "      <td>...</td>\n",
       "      <td>...</td>\n",
       "      <td>...</td>\n",
       "      <td>...</td>\n",
       "      <td>...</td>\n",
       "      <td>...</td>\n",
       "      <td>...</td>\n",
       "      <td>...</td>\n",
       "      <td>...</td>\n",
       "    </tr>\n",
       "    <tr>\n",
       "      <th>6043</th>\n",
       "      <td>6043</td>\n",
       "      <td>19828</td>\n",
       "      <td>Vuela Cuba</td>\n",
       "      <td>Vuela Cuba</td>\n",
       "      <td>6C</td>\n",
       "      <td>6CC</td>\n",
       "      <td>None</td>\n",
       "      <td>Cuba</td>\n",
       "      <td>Y</td>\n",
       "    </tr>\n",
       "    <tr>\n",
       "      <th>6044</th>\n",
       "      <td>6044</td>\n",
       "      <td>19830</td>\n",
       "      <td>All Australia</td>\n",
       "      <td>All Australia</td>\n",
       "      <td>88</td>\n",
       "      <td>8K8</td>\n",
       "      <td>None</td>\n",
       "      <td>Australia</td>\n",
       "      <td>Y</td>\n",
       "    </tr>\n",
       "    <tr>\n",
       "      <th>6045</th>\n",
       "      <td>6045</td>\n",
       "      <td>19831</td>\n",
       "      <td>Fly Europa</td>\n",
       "      <td>None</td>\n",
       "      <td>ER</td>\n",
       "      <td>RWW</td>\n",
       "      <td>None</td>\n",
       "      <td>Spain</td>\n",
       "      <td>Y</td>\n",
       "    </tr>\n",
       "    <tr>\n",
       "      <th>6046</th>\n",
       "      <td>6046</td>\n",
       "      <td>19834</td>\n",
       "      <td>FlyPortugal</td>\n",
       "      <td>None</td>\n",
       "      <td>PO</td>\n",
       "      <td>FPT</td>\n",
       "      <td>FlyPortugal</td>\n",
       "      <td>Portugal</td>\n",
       "      <td>Y</td>\n",
       "    </tr>\n",
       "    <tr>\n",
       "      <th>6047</th>\n",
       "      <td>6047</td>\n",
       "      <td>19845</td>\n",
       "      <td>FTI Fluggesellschaft</td>\n",
       "      <td>None</td>\n",
       "      <td>None</td>\n",
       "      <td>FTI</td>\n",
       "      <td>None</td>\n",
       "      <td>Germany</td>\n",
       "      <td>N</td>\n",
       "    </tr>\n",
       "  </tbody>\n",
       "</table>\n",
       "<p>6048 rows × 9 columns</p>\n",
       "</div>"
      ],
      "text/plain": [
       "      index     id                                          name  \\\n",
       "0         0      1                                Private flight   \n",
       "1         1      2                                   135 Airways   \n",
       "2         2      3                                 1Time Airline   \n",
       "3         3      4  2 Sqn No 1 Elementary Flying Training School   \n",
       "4         4      5                               213 Flight Unit   \n",
       "...     ...    ...                                           ...   \n",
       "6043   6043  19828                                    Vuela Cuba   \n",
       "6044   6044  19830                                 All Australia   \n",
       "6045   6045  19831                                    Fly Europa   \n",
       "6046   6046  19834                                   FlyPortugal   \n",
       "6047   6047  19845                          FTI Fluggesellschaft   \n",
       "\n",
       "              alias  iata  icao     callsign         country active  \n",
       "0                \\N     -  None         None            None      Y  \n",
       "1                \\N  None   GNL      GENERAL   United States      N  \n",
       "2                \\N    1T   RNX      NEXTIME    South Africa      Y  \n",
       "3                \\N  None   WYT         None  United Kingdom      N  \n",
       "4                \\N  None   TFU         None          Russia      N  \n",
       "...             ...   ...   ...          ...             ...    ...  \n",
       "6043     Vuela Cuba    6C   6CC         None            Cuba      Y  \n",
       "6044  All Australia    88   8K8         None       Australia      Y  \n",
       "6045           None    ER   RWW         None           Spain      Y  \n",
       "6046           None    PO   FPT  FlyPortugal        Portugal      Y  \n",
       "6047           None  None   FTI         None         Germany      N  \n",
       "\n",
       "[6048 rows x 9 columns]"
      ]
     },
     "execution_count": 67,
     "metadata": {},
     "output_type": "execute_result"
    }
   ],
   "source": [
    "pd.read_sql(\"\"\"\n",
    "SELECT *\n",
    "FROM airlines\n",
    "\"\"\", conn)\n"
   ]
  },
  {
   "cell_type": "code",
   "execution_count": 87,
   "metadata": {
    "hidden": true
   },
   "outputs": [
    {
     "data": {
      "text/html": [
       "<div>\n",
       "<style scoped>\n",
       "    .dataframe tbody tr th:only-of-type {\n",
       "        vertical-align: middle;\n",
       "    }\n",
       "\n",
       "    .dataframe tbody tr th {\n",
       "        vertical-align: top;\n",
       "    }\n",
       "\n",
       "    .dataframe thead th {\n",
       "        text-align: right;\n",
       "    }\n",
       "</style>\n",
       "<table border=\"1\" class=\"dataframe\">\n",
       "  <thead>\n",
       "    <tr style=\"text-align: right;\">\n",
       "      <th></th>\n",
       "      <th>index</th>\n",
       "      <th>airline_id</th>\n",
       "      <th>id</th>\n",
       "      <th>name</th>\n",
       "      <th>num_of_routes_by_airline</th>\n",
       "    </tr>\n",
       "  </thead>\n",
       "  <tbody>\n",
       "    <tr>\n",
       "      <th>0</th>\n",
       "      <td>25797</td>\n",
       "      <td>4296</td>\n",
       "      <td>4296</td>\n",
       "      <td>Ryanair</td>\n",
       "      <td>2484</td>\n",
       "    </tr>\n",
       "    <tr>\n",
       "      <th>1</th>\n",
       "      <td>4655</td>\n",
       "      <td>24</td>\n",
       "      <td>24</td>\n",
       "      <td>American Airlines</td>\n",
       "      <td>2354</td>\n",
       "    </tr>\n",
       "    <tr>\n",
       "      <th>2</th>\n",
       "      <td>55757</td>\n",
       "      <td>5209</td>\n",
       "      <td>5209</td>\n",
       "      <td>United Airlines</td>\n",
       "      <td>2180</td>\n",
       "    </tr>\n",
       "    <tr>\n",
       "      <th>3</th>\n",
       "      <td>20009</td>\n",
       "      <td>2009</td>\n",
       "      <td>2009</td>\n",
       "      <td>Delta Air Lines</td>\n",
       "      <td>1981</td>\n",
       "    </tr>\n",
       "    <tr>\n",
       "      <th>4</th>\n",
       "      <td>58570</td>\n",
       "      <td>5265</td>\n",
       "      <td>5265</td>\n",
       "      <td>US Airways</td>\n",
       "      <td>1960</td>\n",
       "    </tr>\n",
       "    <tr>\n",
       "      <th>...</th>\n",
       "      <td>...</td>\n",
       "      <td>...</td>\n",
       "      <td>...</td>\n",
       "      <td>...</td>\n",
       "      <td>...</td>\n",
       "    </tr>\n",
       "    <tr>\n",
       "      <th>536</th>\n",
       "      <td>30855</td>\n",
       "      <td>16625</td>\n",
       "      <td>16625</td>\n",
       "      <td>Papillon Grand Canyon Helicopters</td>\n",
       "      <td>2</td>\n",
       "    </tr>\n",
       "    <tr>\n",
       "      <th>537</th>\n",
       "      <td>2430</td>\n",
       "      <td>11814</td>\n",
       "      <td>11814</td>\n",
       "      <td>SmartLynx Airlines</td>\n",
       "      <td>2</td>\n",
       "    </tr>\n",
       "    <tr>\n",
       "      <th>538</th>\n",
       "      <td>37168</td>\n",
       "      <td>109</td>\n",
       "      <td>109</td>\n",
       "      <td>Alaska Central Express</td>\n",
       "      <td>2</td>\n",
       "    </tr>\n",
       "    <tr>\n",
       "      <th>539</th>\n",
       "      <td>45640</td>\n",
       "      <td>106</td>\n",
       "      <td>106</td>\n",
       "      <td>Air Europe</td>\n",
       "      <td>2</td>\n",
       "    </tr>\n",
       "    <tr>\n",
       "      <th>540</th>\n",
       "      <td>24029</td>\n",
       "      <td>2260</td>\n",
       "      <td>2260</td>\n",
       "      <td>Eurowings</td>\n",
       "      <td>1</td>\n",
       "    </tr>\n",
       "  </tbody>\n",
       "</table>\n",
       "<p>541 rows × 5 columns</p>\n",
       "</div>"
      ],
      "text/plain": [
       "     index airline_id     id                               name  \\\n",
       "0    25797       4296   4296                            Ryanair   \n",
       "1     4655         24     24                  American Airlines   \n",
       "2    55757       5209   5209                    United Airlines   \n",
       "3    20009       2009   2009                    Delta Air Lines   \n",
       "4    58570       5265   5265                         US Airways   \n",
       "..     ...        ...    ...                                ...   \n",
       "536  30855      16625  16625  Papillon Grand Canyon Helicopters   \n",
       "537   2430      11814  11814                 SmartLynx Airlines   \n",
       "538  37168        109    109             Alaska Central Express   \n",
       "539  45640        106    106                         Air Europe   \n",
       "540  24029       2260   2260                          Eurowings   \n",
       "\n",
       "     num_of_routes_by_airline  \n",
       "0                        2484  \n",
       "1                        2354  \n",
       "2                        2180  \n",
       "3                        1981  \n",
       "4                        1960  \n",
       "..                        ...  \n",
       "536                         2  \n",
       "537                         2  \n",
       "538                         2  \n",
       "539                         2  \n",
       "540                         1  \n",
       "\n",
       "[541 rows x 5 columns]"
      ]
     },
     "execution_count": 87,
     "metadata": {},
     "output_type": "execute_result"
    }
   ],
   "source": [
    "# Your code here\n",
    "pd.read_sql(\"\"\"\n",
    "    SELECT\n",
    "        routes.\"index\",\n",
    "        routes.airline_id,\n",
    "        airlines.id,\n",
    "        airlines.name,\n",
    "        COUNT() AS num_of_routes_by_airline\n",
    "    FROM \n",
    "        routes\n",
    "        LEFT JOIN airlines \n",
    "        ON routes.airline_id = airlines.id\n",
    "    GROUP BY \n",
    "        airlines.id\n",
    "    ORDER BY \n",
    "        num_of_routes_by_airline DESC\n",
    "        \n",
    "\"\"\", conn)"
   ]
  },
  {
   "cell_type": "markdown",
   "metadata": {
    "heading_collapsed": true,
    "hidden": true
   },
   "source": [
    "<details>\n",
    "    <summary><b>Possible Solution</b></summary>\n",
    "\n",
    "```sql\n",
    "SELECT\n",
    "    airlines.name AS airline,\n",
    "    COUNT() AS number_of_routes\n",
    "-- We first need to get all the relevant info via a join\n",
    "FROM\n",
    "    routes\n",
    "    -- LEFT JOIN since we want all routes (even if airline id is unknown)\n",
    "    LEFT JOIN airlines\n",
    "        ON routes.airline_id = airlines.id\n",
    "-- We need to group by airline's ID\n",
    "GROUP BY\n",
    "    airlines.id\n",
    "ORDER BY\n",
    "    number_of_routes DESC\n",
    "```\n",
    "</details>"
   ]
  },
  {
   "cell_type": "markdown",
   "metadata": {
    "heading_collapsed": true
   },
   "source": [
    "# Level Up: Execution Order"
   ]
  },
  {
   "cell_type": "markdown",
   "metadata": {
    "hidden": true
   },
   "source": [
    "```SQL\n",
    "SELECT \n",
    "    COUNT(table2.col2) AS my_new_count\n",
    "    ,table1.col2\n",
    "FROM\n",
    "    table1\n",
    "    JOIN table2\n",
    "        ON table1.col1 = table2.col2\n",
    "WHERE\n",
    "    table1.col1 > 0\n",
    "GROUP BY\n",
    "    table2.col1\n",
    "```"
   ]
  },
  {
   "cell_type": "markdown",
   "metadata": {
    "hidden": true
   },
   "source": [
    "1. `From`\n",
    "2. `Where`\n",
    "3. `Group By`\n",
    "4. `Having`\n",
    "5. `Select`\n",
    "6. `Order By`\n",
    "7. `Limit`"
   ]
  }
 ],
 "metadata": {
  "kernelspec": {
   "display_name": "Python 3",
   "language": "python",
   "name": "python3"
  },
  "language_info": {
   "codemirror_mode": {
    "name": "ipython",
    "version": 3
   },
   "file_extension": ".py",
   "mimetype": "text/x-python",
   "name": "python",
   "nbconvert_exporter": "python",
   "pygments_lexer": "ipython3",
   "version": "3.8.5"
  },
  "toc": {
   "base_numbering": 1,
   "nav_menu": {},
   "number_sections": true,
   "sideBar": true,
   "skip_h1_title": false,
   "title_cell": "Table of Contents",
   "title_sidebar": "TOC",
   "toc_cell": true,
   "toc_position": {
    "height": "calc(100% - 180px)",
    "left": "10px",
    "top": "150px",
    "width": "277px"
   },
   "toc_section_display": true,
   "toc_window_display": true
  }
 },
 "nbformat": 4,
 "nbformat_minor": 4
}
